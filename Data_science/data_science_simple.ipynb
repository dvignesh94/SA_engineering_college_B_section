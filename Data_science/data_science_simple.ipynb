{
 "cells": [
  {
   "cell_type": "code",
   "execution_count": null,
   "id": "097a0697",
   "metadata": {},
   "outputs": [],
   "source": [
    "import numpy as np\n",
    "import pandas as pd\n",
    "import matplotlib.pyplot as plt\n",
    "# Matplotlib is a cross-platform, data visualization and graphical plotting library for Python and its numerical extension NumPy\n",
    "import seaborn as sns\n",
    "# sns will be used to visualize random distributions.\n",
    "from bs4 import BeautifulSoup # pip install beautifulsoup4\n",
    "# Beautiful Soup is a Python library that is used for web scraping purposes to pull the data out of HTML and XML files\n",
    "from selenium import webdriver# pip install selenium\n",
    "# Selenium is an open-source tool that automates web browsers\n",
    "%matplotlib inline\n",
    "import requests\n",
    "import re\n",
    "import time\n",
    "import random\n"
   ]
  },
  {
   "cell_type": "code",
   "execution_count": 1,
   "id": "0a399720",
   "metadata": {},
   "outputs": [
    {
     "ename": "NameError",
     "evalue": "name 'requests' is not defined",
     "output_type": "error",
     "traceback": [
      "\u001b[31m---------------------------------------------------------------------------\u001b[39m",
      "\u001b[31mNameError\u001b[39m                                 Traceback (most recent call last)",
      "\u001b[36mCell\u001b[39m\u001b[36m \u001b[39m\u001b[32mIn[1]\u001b[39m\u001b[32m, line 3\u001b[39m\n\u001b[32m      1\u001b[39m \u001b[38;5;66;03m# Example: Scrape quotes.toscrape.com (site made for scraping)\u001b[39;00m\n\u001b[32m      2\u001b[39m example_url = \u001b[33m\"\u001b[39m\u001b[33mhttps://quotes.toscrape.com/\u001b[39m\u001b[33m\"\u001b[39m\n\u001b[32m----> \u001b[39m\u001b[32m3\u001b[39m resp = \u001b[43mrequests\u001b[49m.get(example_url, timeout=\u001b[32m10\u001b[39m)\n\u001b[32m      4\u001b[39m resp.raise_for_status()\n\u001b[32m      5\u001b[39m example_soup = BeautifulSoup(resp.text, \u001b[33m'\u001b[39m\u001b[33mhtml.parser\u001b[39m\u001b[33m'\u001b[39m)\n",
      "\u001b[31mNameError\u001b[39m: name 'requests' is not defined"
     ]
    }
   ],
   "source": [
    "# Example: Scrape quotes.toscrape.com (site made for scraping)\n",
    "example_url = \"https://quotes.toscrape.com/\"\n",
    "resp = requests.get(example_url, timeout=10)\n",
    "resp.raise_for_status()\n",
    "example_soup = BeautifulSoup(resp.text, 'html.parser')\n",
    "\n",
    "quotes = []\n",
    "authors = []\n",
    "tags_list = []\n",
    "\n",
    "for q in example_soup.select('div.quote'):\n",
    "    text_el = q.select_one('span.text')\n",
    "    author_el = q.select_one('small.author')\n",
    "    tag_els = q.select('div.tags a.tag')\n",
    "    quotes.append(text_el.get_text(strip=True) if text_el else '')\n",
    "    authors.append(author_el.get_text(strip=True) if author_el else '')\n",
    "    tags_list.append([t.get_text(strip=True) for t in tag_els])\n",
    "\n",
    "example_df = pd.DataFrame({\n",
    "    'quote': quotes,\n",
    "    'author': authors,\n",
    "    'tags': tags_list,\n",
    "})\n",
    "example_df.head()\n"
   ]
  },
  {
   "cell_type": "code",
   "execution_count": null,
   "id": "7639e836",
   "metadata": {},
   "outputs": [],
   "source": []
  }
 ],
 "metadata": {
  "kernelspec": {
   "display_name": "Python (bertenv)",
   "language": "python",
   "name": "bertenv"
  },
  "language_info": {
   "codemirror_mode": {
    "name": "ipython",
    "version": 3
   },
   "file_extension": ".py",
   "mimetype": "text/x-python",
   "name": "python",
   "nbconvert_exporter": "python",
   "pygments_lexer": "ipython3",
   "version": "3.13.5"
  }
 },
 "nbformat": 4,
 "nbformat_minor": 5
}
