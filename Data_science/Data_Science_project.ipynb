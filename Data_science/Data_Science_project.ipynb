{
  "cells": [
    {
      "cell_type": "markdown",
      "id": "2555f6e5",
      "metadata": {
        "id": "2555f6e5"
      },
      "source": [
        "### Web Scraping with Python Using Beautiful Soup"
      ]
    },
    {
      "cell_type": "markdown",
      "id": "c26d2cd5",
      "metadata": {
        "id": "c26d2cd5"
      },
      "source": [
        "#### Learn how to scrape the web with Python!\n",
        "\n",
        "The internet is an absolutely massive source of data — data that we can access using web scraping and Python!\n",
        "\n",
        "In fact, web scraping is often the only way we can access data. There is a lot of information out there that isn’t available in convenient CSV exports or easy-to-connect APIs. And websites themselves are often valuable sources of data — consider, for example, the kinds of analysis you could do if you could download every post on a web forum.\n",
        "\n",
        "To access those sorts of on-page datasets, we’ll have to use web scraping."
      ]
    },
    {
      "cell_type": "markdown",
      "id": "480dc851",
      "metadata": {
        "id": "480dc851"
      },
      "source": [
        "we’ll work through an actual web scraping project, focusing on Flipkart Data.\n",
        "\n"
      ]
    },
    {
      "cell_type": "markdown",
      "id": "e8fc694f",
      "metadata": {
        "id": "e8fc694f"
      },
      "source": [
        "### The Fundamentals of Web Scraping:\n",
        "\n",
        "#### What is Web Scraping in Python?\n",
        "\n",
        "Some websites offer data sets that are downloadable in CSV format, or accessible via an Application Programming Interface (API). But many websites with useful data don’t offer these convenient options.\n"
      ]
    },
    {
      "cell_type": "markdown",
      "id": "49537206",
      "metadata": {
        "id": "49537206"
      },
      "source": [
        "If we wanted to analyze this data, or download it for use in some other app, we wouldn’t want to painstakingly copy-paste everything. Web scraping is a technique that lets us use programming to do the heavy lifting. We’ll write some code that looks at the NWS site, grabs just the data we want to work with, and outputs it in the format we need."
      ]
    },
    {
      "cell_type": "markdown",
      "id": "babeb2ce",
      "metadata": {
        "id": "babeb2ce"
      },
      "source": [
        "Show you how to perform web scraping using Python 3 and the Beautiful Soup library. We’ll be scraping Data from the Flipkart, and then analyzing them using the Pandas library.\n",
        "\n",
        "But to be clear, lots of programming languages can be used to scrape the web!"
      ]
    },
    {
      "cell_type": "markdown",
      "id": "35ecc40a",
      "metadata": {
        "id": "35ecc40a"
      },
      "source": [
        "#### How Does Web Scraping Work?\n",
        "\n",
        "When we scrape the web, we write code that sends a request to the server that’s hosting the page we specified. The server will return the source code — HTML, mostly — for the page (or pages) we requested.\n",
        "\n",
        "So far, we’re essentially doing the same thing a web browser does — sending a server request with a specific URL and asking the server to return the code for that page.\n",
        "\n",
        "But unlike a web browser, our web scraping code won’t interpret the page’s source code and display the page visually. Instead, we’ll write some custom code that filters through the page’s source code looking for specific elements we’ve specified, and extracting whatever content we’ve instructed it to extract.\n",
        "\n",
        "For example, if we wanted to get all of the data from inside a table that was displayed on a web page, our code would be written to go through these steps in sequence:\n",
        "\n",
        "Request the content (source code) of a specific URL from the server\n",
        "Download the content that is returned\n",
        "Identify the elements of the page that are part of the table we want\n",
        "Extract and (if necessary) reformat those elements into a dataset we can analyze or use in whatever way we require.\n",
        "If that all sounds very complicated, don’t worry! Python and Beautiful Soup have built-in features designed to make this relatively straightforward.\n",
        "\n",
        "One thing that’s important to note: from a server’s perspective, requesting a page via web scraping is the same as loading it in a web browser. When we use code to submit these requests, we might be “loading” pages much faster than a regular user, and thus quickly eating up the website owner’s server resources."
      ]
    },
    {
      "cell_type": "markdown",
      "id": "67e6bb2a",
      "metadata": {
        "id": "67e6bb2a"
      },
      "source": [
        "#### Why Use Python for Web Scraping?\n",
        "\n",
        "As previously mentioned, it’s possible to do web scraping with many programming languages.\n",
        "\n",
        "However, one of the most popular approaches is to use Python and the Beautiful Soup library.\n",
        "\n",
        "#### Is Web Scraping Legal?\n",
        "\n",
        "Unfortunately, there’s not a cut-and-dry answer here. Some websites explicitly allow web scraping. Others explicitly forbid it. Many websites don’t offer any clear guidance one way or the other.\n",
        "\n",
        "Before scraping any website, we should look for a terms and conditions page to see if there are explicit rules about scraping. If there are, we should follow them. If there are not, then it becomes more of a judgement call.\n",
        "\n",
        "Remember, though, that web scraping consumes server resources for the host website. If we’re just scraping one page once, that isn’t going to cause a problem. But if our code is scraping 1,000 pages once every ten minutes, that could quickly get expensive for the website owner.\n",
        "\n",
        "Thus, in addition to following any and all explicit rules about web scraping.\n",
        "\n",
        "#### Web Scraping Best Practices:\n",
        "\n",
        "Never scrape more frequently than you need to.\n",
        "Consider caching the content you scrape so that it’s only downloaded once.\n",
        "Build pauses into your code using functions like time.sleep() to keep from overwhelming servers with too many requests too quickly.\n",
        "\n",
        "\n",
        "#### The Components of a Web Page\n",
        "\n",
        "Before we start writing code, we need to understand a little bit about the structure of a web page. We’ll use the site’s structure to write code that gets us the data we want to scrape, so understanding that structure is an important first step for any web scraping project.\n",
        "When we visit a web page, our web browser makes a request to a web server. This request is called a GET request, since we’re getting files from the server. The server then sends back files that tell our browser how to render the page for us. These files will typically include:\n",
        "\n",
        "HTML — the main content of the page.\n",
        "CSS — used to add styling to make the page look nicer.\n",
        "JS — Javascript files add interactivity to web pages.\n",
        "Images — image formats, such as JPG and PNG, allow web pages to show pictures.\n",
        "After our browser receives all the files, it renders the page and displays it to us.\n",
        "\n",
        "There’s a lot that happens behind the scenes to render a page nicely, but we don’t need to worry about most of it when we’re web scraping. When we perform web scraping, we’re interested in the main content of the web page, so we look primarily at the HTML.\n",
        "\n",
        "\n"
      ]
    },
    {
      "cell_type": "code",
      "execution_count": null,
      "id": "a5700296",
      "metadata": {
        "id": "a5700296"
      },
      "outputs": [],
      "source": [
        "import numpy as np\n",
        "import pandas as pd\n",
        "import matplotlib.pyplot as plt\n",
        "# Matplotlib is a cross-platform, data visualization and graphical plotting library for Python and its numerical extension NumPy\n",
        "import seaborn as sns\n",
        "# sns will be used to visualize random distributions.\n",
        "from bs4 import BeautifulSoup # pip install beautifulsoup4\n",
        "# Beautiful Soup is a Python library that is used for web scraping purposes to pull the data out of HTML and XML files\n",
        "from selenium import webdriver# pip install selenium\n",
        "# Selenium is an open-source tool that automates web browsers\n",
        "%matplotlib inline\n"
      ]
    },
    {
      "cell_type": "code",
      "execution_count": null,
      "id": "69f9006b",
      "metadata": {
        "id": "69f9006b",
        "outputId": "33a812e9-6037-4b16-d9d6-c9bdc086e005"
      },
      "outputs": [
        {
          "name": "stdout",
          "output_type": "stream",
          "text": [
            "Collecting selenium\n",
            "  Downloading selenium-4.8.2-py3-none-any.whl (6.9 MB)\n",
            "\u001b[2K     \u001b[90m━━━━━━━━━━━━━━━━━━━━━━━━━━━━━━━━━━━━━━━━\u001b[0m \u001b[32m6.9/6.9 MB\u001b[0m \u001b[31m4.8 MB/s\u001b[0m eta \u001b[36m0:00:00\u001b[0m00:01\u001b[0m00:01\u001b[0m\n",
            "\u001b[?25hCollecting trio-websocket~=0.9\n",
            "  Downloading trio_websocket-0.9.2-py3-none-any.whl (16 kB)\n",
            "Requirement already satisfied: urllib3[socks]~=1.26 in ./opt/anaconda3/lib/python3.9/site-packages (from selenium) (1.26.11)\n",
            "Collecting trio~=0.17\n",
            "  Downloading trio-0.22.0-py3-none-any.whl (384 kB)\n",
            "\u001b[2K     \u001b[90m━━━━━━━━━━━━━━━━━━━━━━━━━━━━━━━━━━━━━━━\u001b[0m \u001b[32m384.9/384.9 kB\u001b[0m \u001b[31m2.3 MB/s\u001b[0m eta \u001b[36m0:00:00\u001b[0m00:01\u001b[0m00:01\u001b[0m\n",
            "\u001b[?25hRequirement already satisfied: certifi>=2021.10.8 in ./opt/anaconda3/lib/python3.9/site-packages (from selenium) (2022.9.24)\n",
            "Requirement already satisfied: sniffio in ./opt/anaconda3/lib/python3.9/site-packages (from trio~=0.17->selenium) (1.2.0)\n",
            "Requirement already satisfied: idna in ./opt/anaconda3/lib/python3.9/site-packages (from trio~=0.17->selenium) (3.3)\n",
            "Requirement already satisfied: sortedcontainers in ./opt/anaconda3/lib/python3.9/site-packages (from trio~=0.17->selenium) (2.4.0)\n",
            "Collecting async-generator>=1.9\n",
            "  Downloading async_generator-1.10-py3-none-any.whl (18 kB)\n",
            "Collecting exceptiongroup>=1.0.0rc9\n",
            "  Downloading exceptiongroup-1.1.0-py3-none-any.whl (14 kB)\n",
            "Requirement already satisfied: attrs>=19.2.0 in ./opt/anaconda3/lib/python3.9/site-packages (from trio~=0.17->selenium) (21.4.0)\n",
            "Collecting outcome\n",
            "  Downloading outcome-1.2.0-py2.py3-none-any.whl (9.7 kB)\n",
            "Collecting wsproto>=0.14\n",
            "  Downloading wsproto-1.2.0-py3-none-any.whl (24 kB)\n",
            "Requirement already satisfied: PySocks!=1.5.7,<2.0,>=1.5.6 in ./opt/anaconda3/lib/python3.9/site-packages (from urllib3[socks]~=1.26->selenium) (1.7.1)\n",
            "Collecting h11<1,>=0.9.0\n",
            "  Downloading h11-0.14.0-py3-none-any.whl (58 kB)\n",
            "\u001b[2K     \u001b[90m━━━━━━━━━━━━━━━━━━━━━━━━━━━━━━━━━━━━━━━━\u001b[0m \u001b[32m58.3/58.3 kB\u001b[0m \u001b[31m1.3 MB/s\u001b[0m eta \u001b[36m0:00:00\u001b[0ma \u001b[36m0:00:01\u001b[0m\n",
            "\u001b[?25hInstalling collected packages: outcome, h11, exceptiongroup, async-generator, wsproto, trio, trio-websocket, selenium\n",
            "Successfully installed async-generator-1.10 exceptiongroup-1.1.0 h11-0.14.0 outcome-1.2.0 selenium-4.8.2 trio-0.22.0 trio-websocket-0.9.2 wsproto-1.2.0\n",
            "Note: you may need to restart the kernel to use updated packages.\n"
          ]
        }
      ],
      "source": [
        "pip install selenium"
      ]
    },
    {
      "cell_type": "code",
      "execution_count": null,
      "id": "d9749b85",
      "metadata": {
        "id": "d9749b85"
      },
      "outputs": [],
      "source": [
        "import requests\n",
        "import re\n",
        "import time\n",
        "import regex as re"
      ]
    },
    {
      "cell_type": "code",
      "execution_count": null,
      "id": "b480f701",
      "metadata": {
        "id": "b480f701"
      },
      "outputs": [],
      "source": []
    },
    {
      "cell_type": "code",
      "execution_count": null,
      "id": "9fe369d4",
      "metadata": {
        "id": "9fe369d4"
      },
      "outputs": [],
      "source": [
        "URL='https://www.flipkart.com/search?q=mobile+less+than+50000&otracker=search&otracker1=search&marketplace=FLIPKART&as-show=on&as=off&as-pos=1&as-type=HISTORY'"
      ]
    },
    {
      "cell_type": "code",
      "execution_count": null,
      "id": "dc834b3c",
      "metadata": {
        "id": "dc834b3c"
      },
      "outputs": [],
      "source": [
        "page = requests.get(URL)"
      ]
    },
    {
      "cell_type": "code",
      "execution_count": null,
      "id": "20ab9644",
      "metadata": {
        "id": "20ab9644",
        "outputId": "448f746b-15ac-4c5d-8049-a70e5f593a54"
      },
      "outputs": [
        {
          "data": {
            "text/plain": [
              "200"
            ]
          },
          "execution_count": 13,
          "metadata": {},
          "output_type": "execute_result"
        }
      ],
      "source": [
        "page.status_code"
      ]
    },
    {
      "cell_type": "code",
      "execution_count": null,
      "id": "e7ac8882",
      "metadata": {
        "id": "e7ac8882"
      },
      "outputs": [],
      "source": [
        "pagecontent = page.text"
      ]
    },
    {
      "cell_type": "code",
      "execution_count": null,
      "id": "7de16b53",
      "metadata": {
        "id": "7de16b53"
      },
      "outputs": [],
      "source": [
        "soup = BeautifulSoup(pagecontent)"
      ]
    },
    {
      "cell_type": "code",
      "execution_count": null,
      "id": "0f040da0",
      "metadata": {
        "id": "0f040da0",
        "outputId": "1b19856d-ff03-4b4f-9202-453fc50bea0d"
      },
      "outputs": [
        {
          "data": {
            "text/plain": [
              "[<ul class=\"_1xgFaf\"><li class=\"rgWa7D\">32 MB RAM | 32 MB ROM | Expandable Upto 32 GB</li><li class=\"rgWa7D\">4.5 cm (1.77 inch) Display</li><li class=\"rgWa7D\">0.8MP + 0.8MP</li><li class=\"rgWa7D\">2800 mAh Battery</li><li class=\"rgWa7D\">1 Year manufacturer warranty for device and 6 months manufacturer warranty for in-box accessories including batteries from the date of purchase</li></ul>,\n",
              " <ul class=\"_1xgFaf\"><li class=\"rgWa7D\">48 MB RAM | 128 MB ROM | Expandable Upto 128 GB</li><li class=\"rgWa7D\">6.1 cm (2.4 inch) Display</li><li class=\"rgWa7D\">0.8MP Rear Camera</li><li class=\"rgWa7D\">1800 mAh Battery</li><li class=\"rgWa7D\">1 Year warranty for device and 6 Months for box accessories</li></ul>,\n",
              " <ul class=\"_1xgFaf\"><li class=\"rgWa7D\">4 MB RAM | 2 GB ROM | Expandable Upto 8 GB</li><li class=\"rgWa7D\">4.57 cm (1.8 inch) NA Display</li><li class=\"rgWa7D\">1800 mAh Battery</li><li class=\"rgWa7D\">One Year domestic warranty against manufacturing defects</li></ul>,\n",
              " <ul class=\"_1xgFaf\"><li class=\"rgWa7D\">32 MB RAM | 1.3 GB ROM</li><li class=\"rgWa7D\">4.57 cm (1.8 inch) Display</li><li class=\"rgWa7D\">800 mAh Battery</li><li class=\"rgWa7D\">1 year warranty against manufacturing defects</li></ul>,\n",
              " <ul class=\"_1xgFaf\"><li class=\"rgWa7D\">32 MB RAM | 1.3 GB ROM</li><li class=\"rgWa7D\">4.57 cm (1.8 inch) Display</li><li class=\"rgWa7D\">800 mAh Battery</li><li class=\"rgWa7D\">12 months warranty against manufacturing defects</li></ul>,\n",
              " <ul class=\"_1xgFaf\"><li class=\"rgWa7D\">32 MB RAM | 64 MB ROM | Expandable Upto 8 GB</li><li class=\"rgWa7D\">4.57 cm (1.8 inch) Display</li><li class=\"rgWa7D\">0.3MP Rear Camera</li><li class=\"rgWa7D\">800 mAh Battery</li><li class=\"rgWa7D\">12 Month  Manufacturer Warranty</li></ul>,\n",
              " <ul class=\"_1xgFaf\"><li class=\"rgWa7D\">32 MB RAM | 2 GB ROM</li><li class=\"rgWa7D\">6.1 cm (2.4 inch) Display</li><li class=\"rgWa7D\">0.3MP Rear Camera</li><li class=\"rgWa7D\">2500 mAh Battery</li><li class=\"rgWa7D\">1 year Domestic warranty against manufacturing defects</li></ul>,\n",
              " <ul class=\"_1xgFaf\"><li class=\"rgWa7D\">32 MB RAM | 1.30 GB ROM</li><li class=\"rgWa7D\">4.57 cm (1.8 inch) Display</li><li class=\"rgWa7D\">800 mAh Battery</li><li class=\"rgWa7D\">12 months warranty against manufacturing defects</li></ul>,\n",
              " <ul class=\"_1xgFaf\"><li class=\"rgWa7D\">32 MB RAM | 1.3 GB ROM</li><li class=\"rgWa7D\">4.57 cm (1.8 inch) Display</li><li class=\"rgWa7D\">800 mAh Battery</li><li class=\"rgWa7D\">1 year warranty only against manufacturing defects</li></ul>,\n",
              " <ul class=\"_1xgFaf\"><li class=\"rgWa7D\">0 MB MB ROM | Expandable Upto 32 GB</li><li class=\"rgWa7D\">6.1 cm (2.4 inch) Display</li><li class=\"rgWa7D\">0.8MP Rear Camera</li><li class=\"rgWa7D\">2800 mAh Battery</li><li class=\"rgWa7D\">1 Year Brand Replacement Warranty</li></ul>,\n",
              " <ul class=\"_1xgFaf\"><li class=\"rgWa7D\">32 MB RAM | 1.3 GB ROM</li><li class=\"rgWa7D\">4.57 cm (1.8 inch) Display</li><li class=\"rgWa7D\">800 mAh Battery</li><li class=\"rgWa7D\">12 months warranty against manufacturing defects</li></ul>,\n",
              " <ul class=\"_1xgFaf\"><li class=\"rgWa7D\">32 MB RAM | 2 GB ROM</li><li class=\"rgWa7D\">6.1 cm (2.4 inch) Display</li><li class=\"rgWa7D\">0.3MP Rear Camera</li><li class=\"rgWa7D\">2500 mAh Battery</li><li class=\"rgWa7D\">One Year domestic warranty against manufacturing defects</li></ul>,\n",
              " <ul class=\"_1xgFaf\"><li class=\"rgWa7D\">32 MB RAM | 32 MB ROM</li><li class=\"rgWa7D\">1.68 cm (0.66 inch) Display</li><li class=\"rgWa7D\">800 mAh Battery</li><li class=\"rgWa7D\">1 Year Company Warranty</li></ul>,\n",
              " <ul class=\"_1xgFaf\"><li class=\"rgWa7D\">32 MB RAM | 8 GB ROM</li><li class=\"rgWa7D\">6.1 cm (2.4 inch) Display</li><li class=\"rgWa7D\">0.3MP Rear Camera</li><li class=\"rgWa7D\">2500 mAh Battery</li><li class=\"rgWa7D\">One Year domestic warranty against manufacturing defects</li></ul>,\n",
              " <ul class=\"_1xgFaf\"><li class=\"rgWa7D\">32 MB RAM | 2 GB ROM</li><li class=\"rgWa7D\">6.1 cm (2.4 inch) Display</li><li class=\"rgWa7D\">0.3MP Rear Camera</li><li class=\"rgWa7D\">2500 mAh Battery</li><li class=\"rgWa7D\">One Year domestic warranty against manufacturing defects</li></ul>,\n",
              " <ul class=\"_1xgFaf\"><li class=\"rgWa7D\">32 MB RAM | 2000 MB ROM</li><li class=\"rgWa7D\">4.57 cm (1.8 inch) Display</li><li class=\"rgWa7D\">1800 mAh Battery</li><li class=\"rgWa7D\">One Year domestic warranty against manufacturing defects</li></ul>,\n",
              " <ul class=\"_1xgFaf\"><li class=\"rgWa7D\">32 MB RAM | 2 GB ROM</li><li class=\"rgWa7D\">4.57 cm (1.8 inch) Display</li><li class=\"rgWa7D\">1800 mAh Battery</li><li class=\"rgWa7D\">1 year Domestic warranty against manufacturing defects</li></ul>,\n",
              " <ul class=\"_1xgFaf\"><li class=\"rgWa7D\">0 MB MB ROM | Expandable Upto 32 GB</li><li class=\"rgWa7D\">4.5 cm (1.77 inch) Display</li><li class=\"rgWa7D\">0.8MP Rear Camera</li><li class=\"rgWa7D\">1200 mAh Battery</li><li class=\"rgWa7D\">1 Year Brand Replacement Warranty</li></ul>,\n",
              " <ul class=\"_1xgFaf\"><li class=\"rgWa7D\">32 MB RAM | 32 MB ROM | Expandable Upto 32 GB</li><li class=\"rgWa7D\">6.1 cm (2.4 inch) Display</li><li class=\"rgWa7D\">0.8MP + 0.8MP</li><li class=\"rgWa7D\">2800 mAh Battery</li><li class=\"rgWa7D\">1 Year manufacturer warranty for device and 6 months manufacturer warranty for in-box accessories including batteries from the date of purchase</li></ul>,\n",
              " <ul class=\"_1xgFaf\"><li class=\"rgWa7D\">32 MB RAM | 32 MB ROM | Expandable Upto 32 GB</li><li class=\"rgWa7D\">4.5 cm (1.77 inch) Display</li><li class=\"rgWa7D\">0.8MP + 0.8MP</li><li class=\"rgWa7D\">1200 mAh Battery</li><li class=\"rgWa7D\">1 Year manufacturer warranty for device and 6 months manufacturer warranty for in-box accessories including batteries from the date of purchase</li></ul>,\n",
              " <ul class=\"_1xgFaf\"><li class=\"rgWa7D\">32 MB RAM | 32 MB ROM</li><li class=\"rgWa7D\">6.1 cm (2.4 inch) Display</li><li class=\"rgWa7D\">0.3MP Rear Camera</li><li class=\"rgWa7D\">2000 mAh Battery</li><li class=\"rgWa7D\">Brand Warranty of 1 Year Available for Mobile and 6 Months for Accessories</li></ul>,\n",
              " <ul class=\"_1xgFaf\"><li class=\"rgWa7D\">32 MB RAM | 32 MB ROM | Expandable Upto 32 GB</li><li class=\"rgWa7D\">4.5 cm (1.77 inch) Display</li><li class=\"rgWa7D\">0.8MP + 0.8MP</li><li class=\"rgWa7D\">1200 mAh Battery</li><li class=\"rgWa7D\">1 Year manufacturer warranty for device and 6 months manufacturer warranty for in-box accessories including batteries from the date of purchase</li></ul>,\n",
              " <ul class=\"_1xgFaf\"><li class=\"rgWa7D\">32 MB RAM | 32 MB ROM | Expandable Upto 32 GB</li><li class=\"rgWa7D\">6.1 cm (2.4 inch) NA Display</li><li class=\"rgWa7D\">0.8MP Rear Camera</li><li class=\"rgWa7D\">2800 mAh Battery</li><li class=\"rgWa7D\">1 Year manufacturer warranty for device and 6 months manufacturer warranty for in-box accessories including batteries from the date of purchase</li></ul>,\n",
              " <ul class=\"_1xgFaf\"><li class=\"rgWa7D\">32 MB RAM | 32 MB ROM</li><li class=\"rgWa7D\">6.1 cm (2.4 inch) Display</li><li class=\"rgWa7D\">0.3MP Rear Camera</li><li class=\"rgWa7D\">2500 mAh Battery</li><li class=\"rgWa7D\">Brand Warranty of 1 Year Available for Mobile and 6 Months for Accessories</li></ul>]"
            ]
          },
          "execution_count": 16,
          "metadata": {},
          "output_type": "execute_result"
        }
      ],
      "source": [
        "soup.find_all('ul',attrs={'class':\"_1xgFaf\"})"
      ]
    },
    {
      "cell_type": "code",
      "execution_count": null,
      "id": "b4f670cc",
      "metadata": {
        "id": "b4f670cc"
      },
      "outputs": [],
      "source": [
        "# contents attribute of a BeautifulSoup object is a list with all its children elements"
      ]
    },
    {
      "cell_type": "code",
      "execution_count": null,
      "id": "3f4112e6",
      "metadata": {
        "id": "3f4112e6",
        "outputId": "a5a0824f-43d7-4a18-e2b7-cf1d136e7251"
      },
      "outputs": [
        {
          "data": {
            "text/plain": [
              "[<div class=\"_30jeq3 _1_WHN1\">₹1,169</div>,\n",
              " <div class=\"_30jeq3 _1_WHN1\">₹1,899</div>,\n",
              " <div class=\"_30jeq3 _1_WHN1\">₹1,990</div>,\n",
              " <div class=\"_30jeq3 _1_WHN1\">₹1,750</div>,\n",
              " <div class=\"_30jeq3 _1_WHN1\">₹1,750</div>,\n",
              " <div class=\"_30jeq3 _1_WHN1\">₹1,499</div>,\n",
              " <div class=\"_30jeq3 _1_WHN1\">₹2,490</div>,\n",
              " <div class=\"_30jeq3 _1_WHN1\">₹1,750</div>,\n",
              " <div class=\"_30jeq3 _1_WHN1\">₹1,750</div>,\n",
              " <div class=\"_30jeq3 _1_WHN1\">₹1,199</div>,\n",
              " <div class=\"_30jeq3 _1_WHN1\">₹1,750</div>,\n",
              " <div class=\"_30jeq3 _1_WHN1\">₹2,490</div>,\n",
              " <div class=\"_30jeq3 _1_WHN1\">₹1,399</div>,\n",
              " <div class=\"_30jeq3 _1_WHN1\">₹2,490</div>,\n",
              " <div class=\"_30jeq3 _1_WHN1\">₹2,490</div>,\n",
              " <div class=\"_30jeq3 _1_WHN1\">₹1,990</div>,\n",
              " <div class=\"_30jeq3 _1_WHN1\">₹1,990</div>,\n",
              " <div class=\"_30jeq3 _1_WHN1\">₹999</div>,\n",
              " <div class=\"_30jeq3 _1_WHN1\">₹1,320</div>,\n",
              " <div class=\"_30jeq3 _1_WHN1\">₹1,169</div>,\n",
              " <div class=\"_30jeq3 _1_WHN1\">₹1,212</div>,\n",
              " <div class=\"_30jeq3 _1_WHN1\">₹999</div>,\n",
              " <div class=\"_30jeq3 _1_WHN1\">₹1,499</div>,\n",
              " <div class=\"_30jeq3 _1_WHN1\">₹1,129</div>]"
            ]
          },
          "execution_count": 17,
          "metadata": {},
          "output_type": "execute_result"
        }
      ],
      "source": [
        "soup.find_all('div',attrs={'class':'_1_WHN1'})"
      ]
    },
    {
      "cell_type": "code",
      "execution_count": null,
      "id": "24e03cab",
      "metadata": {
        "id": "24e03cab",
        "outputId": "8b6fbeb9-6a9c-4f59-fd83-b7d043494634"
      },
      "outputs": [
        {
          "data": {
            "text/plain": [
              "<div class=\"_30jeq3 _1_WHN1\">₹1,169</div>"
            ]
          },
          "execution_count": 18,
          "metadata": {},
          "output_type": "execute_result"
        }
      ],
      "source": [
        "soup.find('div',attrs={'class':'_1_WHN1'})"
      ]
    },
    {
      "cell_type": "code",
      "execution_count": null,
      "id": "bb55e659",
      "metadata": {
        "id": "bb55e659",
        "outputId": "3a393ae9-19fa-446b-807e-4408b6e06717"
      },
      "outputs": [
        {
          "data": {
            "text/plain": [
              "[<div class=\"_4rR01T\">IAIR Basic Feature Dual Sim Mobile Phone with 2800mAh Big Battery, 1.77 inch Display Screen, 0.8 mp Sm...</div>,\n",
              " <div class=\"_4rR01T\">I Kall K88 PRO 4G Keypad Mobile</div>,\n",
              " <div class=\"_4rR01T\">SAREGAMA Carvaan Mobile M11(CM181) with 1500 pre-loaded songs</div>,\n",
              " <div class=\"_4rR01T\">SAREGAMA Carvaan Keypad Mobile Tamil Don M12 with 1000 Pre-Loaded Songs</div>,\n",
              " <div class=\"_4rR01T\">SAREGAMA Carvaan Mobile Hindi Don M12 with 1000 Pre-Loaded Songs</div>,\n",
              " <div class=\"_4rR01T\">I Kall K3310 Combo Of Two Mobile</div>,\n",
              " <div class=\"_4rR01T\">SAREGAMA Carvaan Mobile Malayalam M21 with 1500 pre-loaded songs</div>,\n",
              " <div class=\"_4rR01T\">SAREGAMA Carvaan Mobile Hindi Don M12 with 1000 Pre-Loaded Songs</div>,\n",
              " <div class=\"_4rR01T\">SAREGAMA Carvaan Keypad Mobile Tamil Don M12 with 1000 Pre-Loaded Songs</div>,\n",
              " <div class=\"_4rR01T\">IAIR Basic Feature Dual Sim Mobile Phone with 2800mAh Battery, 2.4 inch Display Screen, 0.8 mp Camera ...</div>,\n",
              " <div class=\"_4rR01T\">SAREGAMA Carvaan Mobile Hindi Don M12 with 1000 Pre-Loaded Songs</div>,\n",
              " <div class=\"_4rR01T\">SAREGAMA Carvaan Mobile M21(CM281) with 1500 pre-loaded songs</div>,\n",
              " <div class=\"_4rR01T\">Kechadda Keypad Dual Sim Mini Mobile Phone with External Memory Slot 1.68cm (0.66 inch)</div>,\n",
              " <div class=\"_4rR01T\">SAREGAMA Carvaan Mobile M21 with 1500 pre-loaded songs</div>,\n",
              " <div class=\"_4rR01T\">SAREGAMA Carvaan Mobile M21(CM281) with 1500 pre-loaded songs</div>,\n",
              " <div class=\"_4rR01T\">SAREGAMA Carvaan Mobile Malayalam M11</div>,\n",
              " <div class=\"_4rR01T\">SAREGAMA Carvaan Mobile CM 181 with 1500 pre-loaded songs</div>,\n",
              " <div class=\"_4rR01T\">IAIR Basic Feature Dual Sim Mobile Phone with 1200mAh Battery, 1.77 inch Display Screen, 0.8 mp Camera...</div>,\n",
              " <div class=\"_4rR01T\">IAIR Basic Dual Sim Mobile Phone with 2800mAh, 2.4 inch Display ,Camera</div>,\n",
              " <div class=\"_4rR01T\">IAIR Basic Feature Dual Sim Mobile Phone with 1200mAh Battery, 1.77 inch Display Screen, 0.8 mp Camera...</div>,\n",
              " <div class=\"_4rR01T\">I Kall K55 Keypad Mobile (2.4 Inch, Dual Sim)</div>,\n",
              " <div class=\"_4rR01T\">IAIR Basic Feature Dual Sim Mobile Phone with 1200mAh Battery, 1.7 inch Display Screen, Open FM in Blu...</div>,\n",
              " <div class=\"_4rR01T\">IAIR Dual Sim Basic Feature Mobile Phone MP3 with Recording Multi language</div>,\n",
              " <div class=\"_4rR01T\">I Kall K99 Keypad Mobile (2.4 Inch, Dual Sim)</div>]"
            ]
          },
          "execution_count": 19,
          "metadata": {},
          "output_type": "execute_result"
        }
      ],
      "source": [
        "soup.find_all('div',attrs={'class':'_4rR01T'})"
      ]
    },
    {
      "cell_type": "code",
      "execution_count": null,
      "id": "6ccb4918",
      "metadata": {
        "id": "6ccb4918",
        "outputId": "27a7628f-a94d-4109-a0c9-57b373b1059f"
      },
      "outputs": [
        {
          "name": "stdout",
          "output_type": "stream",
          "text": [
            "4\n",
            "3.5\n",
            "3.8\n",
            "4.3\n",
            "3.6\n",
            "4.3\n",
            "3.8\n",
            "4.3\n",
            "4\n",
            "4.1\n",
            "4.1\n",
            "4\n",
            "4\n",
            "3.7\n",
            "3.7\n",
            "3.9\n",
            "3.8\n",
            "3.8\n",
            "3.8\n",
            "3.6\n",
            "4.1\n",
            "1\n",
            "1\n",
            "3.8\n",
            "1\n",
            "1\n",
            "3.9\n",
            "5\n",
            "5\n",
            "3.8\n",
            "5\n",
            "4\n",
            "3.8\n",
            "3\n",
            "3\n"
          ]
        }
      ],
      "source": [
        "for x in soup.find_all('div',attrs={'class':'_3LWZlK'}):\n",
        "    print(x.text)\n",
        ""
      ]
    },
    {
      "cell_type": "code",
      "execution_count": null,
      "id": "36ea90c9",
      "metadata": {
        "id": "36ea90c9",
        "outputId": "8811825c-c6c6-4f8c-918b-88eee891aa92"
      },
      "outputs": [
        {
          "data": {
            "text/plain": [
              "[<li class=\"rgWa7D\">32 MB RAM | 32 MB ROM | Expandable Upto 32 GB</li>,\n",
              " <li class=\"rgWa7D\">4.5 cm (1.77 inch) Display</li>,\n",
              " <li class=\"rgWa7D\">0.8MP + 0.8MP</li>,\n",
              " <li class=\"rgWa7D\">2800 mAh Battery</li>,\n",
              " <li class=\"rgWa7D\">1 Year manufacturer warranty for device and 6 months manufacturer warranty for in-box accessories including batteries from the date of purchase</li>,\n",
              " <li class=\"rgWa7D\">48 MB RAM | 128 MB ROM | Expandable Upto 128 GB</li>,\n",
              " <li class=\"rgWa7D\">6.1 cm (2.4 inch) Display</li>,\n",
              " <li class=\"rgWa7D\">0.8MP Rear Camera</li>,\n",
              " <li class=\"rgWa7D\">1800 mAh Battery</li>,\n",
              " <li class=\"rgWa7D\">1 Year warranty for device and 6 Months for box accessories</li>,\n",
              " <li class=\"rgWa7D\">4 MB RAM | 2 GB ROM | Expandable Upto 8 GB</li>,\n",
              " <li class=\"rgWa7D\">4.57 cm (1.8 inch) NA Display</li>,\n",
              " <li class=\"rgWa7D\">1800 mAh Battery</li>,\n",
              " <li class=\"rgWa7D\">One Year domestic warranty against manufacturing defects</li>,\n",
              " <li class=\"rgWa7D\">32 MB RAM | 1.3 GB ROM</li>,\n",
              " <li class=\"rgWa7D\">4.57 cm (1.8 inch) Display</li>,\n",
              " <li class=\"rgWa7D\">800 mAh Battery</li>,\n",
              " <li class=\"rgWa7D\">1 year warranty against manufacturing defects</li>,\n",
              " <li class=\"rgWa7D\">32 MB RAM | 1.3 GB ROM</li>,\n",
              " <li class=\"rgWa7D\">4.57 cm (1.8 inch) Display</li>,\n",
              " <li class=\"rgWa7D\">800 mAh Battery</li>,\n",
              " <li class=\"rgWa7D\">12 months warranty against manufacturing defects</li>,\n",
              " <li class=\"rgWa7D\">32 MB RAM | 64 MB ROM | Expandable Upto 8 GB</li>,\n",
              " <li class=\"rgWa7D\">4.57 cm (1.8 inch) Display</li>,\n",
              " <li class=\"rgWa7D\">0.3MP Rear Camera</li>,\n",
              " <li class=\"rgWa7D\">800 mAh Battery</li>,\n",
              " <li class=\"rgWa7D\">12 Month  Manufacturer Warranty</li>,\n",
              " <li class=\"rgWa7D\">32 MB RAM | 2 GB ROM</li>,\n",
              " <li class=\"rgWa7D\">6.1 cm (2.4 inch) Display</li>,\n",
              " <li class=\"rgWa7D\">0.3MP Rear Camera</li>,\n",
              " <li class=\"rgWa7D\">2500 mAh Battery</li>,\n",
              " <li class=\"rgWa7D\">1 year Domestic warranty against manufacturing defects</li>,\n",
              " <li class=\"rgWa7D\">32 MB RAM | 1.30 GB ROM</li>,\n",
              " <li class=\"rgWa7D\">4.57 cm (1.8 inch) Display</li>,\n",
              " <li class=\"rgWa7D\">800 mAh Battery</li>,\n",
              " <li class=\"rgWa7D\">12 months warranty against manufacturing defects</li>,\n",
              " <li class=\"rgWa7D\">32 MB RAM | 1.3 GB ROM</li>,\n",
              " <li class=\"rgWa7D\">4.57 cm (1.8 inch) Display</li>,\n",
              " <li class=\"rgWa7D\">800 mAh Battery</li>,\n",
              " <li class=\"rgWa7D\">1 year warranty only against manufacturing defects</li>,\n",
              " <li class=\"rgWa7D\">0 MB MB ROM | Expandable Upto 32 GB</li>,\n",
              " <li class=\"rgWa7D\">6.1 cm (2.4 inch) Display</li>,\n",
              " <li class=\"rgWa7D\">0.8MP Rear Camera</li>,\n",
              " <li class=\"rgWa7D\">2800 mAh Battery</li>,\n",
              " <li class=\"rgWa7D\">1 Year Brand Replacement Warranty</li>,\n",
              " <li class=\"rgWa7D\">32 MB RAM | 1.3 GB ROM</li>,\n",
              " <li class=\"rgWa7D\">4.57 cm (1.8 inch) Display</li>,\n",
              " <li class=\"rgWa7D\">800 mAh Battery</li>,\n",
              " <li class=\"rgWa7D\">12 months warranty against manufacturing defects</li>,\n",
              " <li class=\"rgWa7D\">32 MB RAM | 2 GB ROM</li>,\n",
              " <li class=\"rgWa7D\">6.1 cm (2.4 inch) Display</li>,\n",
              " <li class=\"rgWa7D\">0.3MP Rear Camera</li>,\n",
              " <li class=\"rgWa7D\">2500 mAh Battery</li>,\n",
              " <li class=\"rgWa7D\">One Year domestic warranty against manufacturing defects</li>,\n",
              " <li class=\"rgWa7D\">32 MB RAM | 32 MB ROM</li>,\n",
              " <li class=\"rgWa7D\">1.68 cm (0.66 inch) Display</li>,\n",
              " <li class=\"rgWa7D\">800 mAh Battery</li>,\n",
              " <li class=\"rgWa7D\">1 Year Company Warranty</li>,\n",
              " <li class=\"rgWa7D\">32 MB RAM | 8 GB ROM</li>,\n",
              " <li class=\"rgWa7D\">6.1 cm (2.4 inch) Display</li>,\n",
              " <li class=\"rgWa7D\">0.3MP Rear Camera</li>,\n",
              " <li class=\"rgWa7D\">2500 mAh Battery</li>,\n",
              " <li class=\"rgWa7D\">One Year domestic warranty against manufacturing defects</li>,\n",
              " <li class=\"rgWa7D\">32 MB RAM | 2 GB ROM</li>,\n",
              " <li class=\"rgWa7D\">6.1 cm (2.4 inch) Display</li>,\n",
              " <li class=\"rgWa7D\">0.3MP Rear Camera</li>,\n",
              " <li class=\"rgWa7D\">2500 mAh Battery</li>,\n",
              " <li class=\"rgWa7D\">One Year domestic warranty against manufacturing defects</li>,\n",
              " <li class=\"rgWa7D\">32 MB RAM | 2000 MB ROM</li>,\n",
              " <li class=\"rgWa7D\">4.57 cm (1.8 inch) Display</li>,\n",
              " <li class=\"rgWa7D\">1800 mAh Battery</li>,\n",
              " <li class=\"rgWa7D\">One Year domestic warranty against manufacturing defects</li>,\n",
              " <li class=\"rgWa7D\">32 MB RAM | 2 GB ROM</li>,\n",
              " <li class=\"rgWa7D\">4.57 cm (1.8 inch) Display</li>,\n",
              " <li class=\"rgWa7D\">1800 mAh Battery</li>,\n",
              " <li class=\"rgWa7D\">1 year Domestic warranty against manufacturing defects</li>,\n",
              " <li class=\"rgWa7D\">0 MB MB ROM | Expandable Upto 32 GB</li>,\n",
              " <li class=\"rgWa7D\">4.5 cm (1.77 inch) Display</li>,\n",
              " <li class=\"rgWa7D\">0.8MP Rear Camera</li>,\n",
              " <li class=\"rgWa7D\">1200 mAh Battery</li>,\n",
              " <li class=\"rgWa7D\">1 Year Brand Replacement Warranty</li>,\n",
              " <li class=\"rgWa7D\">32 MB RAM | 32 MB ROM | Expandable Upto 32 GB</li>,\n",
              " <li class=\"rgWa7D\">6.1 cm (2.4 inch) Display</li>,\n",
              " <li class=\"rgWa7D\">0.8MP + 0.8MP</li>,\n",
              " <li class=\"rgWa7D\">2800 mAh Battery</li>,\n",
              " <li class=\"rgWa7D\">1 Year manufacturer warranty for device and 6 months manufacturer warranty for in-box accessories including batteries from the date of purchase</li>,\n",
              " <li class=\"rgWa7D\">32 MB RAM | 32 MB ROM | Expandable Upto 32 GB</li>,\n",
              " <li class=\"rgWa7D\">4.5 cm (1.77 inch) Display</li>,\n",
              " <li class=\"rgWa7D\">0.8MP + 0.8MP</li>,\n",
              " <li class=\"rgWa7D\">1200 mAh Battery</li>,\n",
              " <li class=\"rgWa7D\">1 Year manufacturer warranty for device and 6 months manufacturer warranty for in-box accessories including batteries from the date of purchase</li>,\n",
              " <li class=\"rgWa7D\">32 MB RAM | 32 MB ROM</li>,\n",
              " <li class=\"rgWa7D\">6.1 cm (2.4 inch) Display</li>,\n",
              " <li class=\"rgWa7D\">0.3MP Rear Camera</li>,\n",
              " <li class=\"rgWa7D\">2000 mAh Battery</li>,\n",
              " <li class=\"rgWa7D\">Brand Warranty of 1 Year Available for Mobile and 6 Months for Accessories</li>,\n",
              " <li class=\"rgWa7D\">32 MB RAM | 32 MB ROM | Expandable Upto 32 GB</li>,\n",
              " <li class=\"rgWa7D\">4.5 cm (1.77 inch) Display</li>,\n",
              " <li class=\"rgWa7D\">0.8MP + 0.8MP</li>,\n",
              " <li class=\"rgWa7D\">1200 mAh Battery</li>,\n",
              " <li class=\"rgWa7D\">1 Year manufacturer warranty for device and 6 months manufacturer warranty for in-box accessories including batteries from the date of purchase</li>,\n",
              " <li class=\"rgWa7D\">32 MB RAM | 32 MB ROM | Expandable Upto 32 GB</li>,\n",
              " <li class=\"rgWa7D\">6.1 cm (2.4 inch) NA Display</li>,\n",
              " <li class=\"rgWa7D\">0.8MP Rear Camera</li>,\n",
              " <li class=\"rgWa7D\">2800 mAh Battery</li>,\n",
              " <li class=\"rgWa7D\">1 Year manufacturer warranty for device and 6 months manufacturer warranty for in-box accessories including batteries from the date of purchase</li>,\n",
              " <li class=\"rgWa7D\">32 MB RAM | 32 MB ROM</li>,\n",
              " <li class=\"rgWa7D\">6.1 cm (2.4 inch) Display</li>,\n",
              " <li class=\"rgWa7D\">0.3MP Rear Camera</li>,\n",
              " <li class=\"rgWa7D\">2500 mAh Battery</li>,\n",
              " <li class=\"rgWa7D\">Brand Warranty of 1 Year Available for Mobile and 6 Months for Accessories</li>]"
            ]
          },
          "execution_count": 21,
          "metadata": {},
          "output_type": "execute_result"
        }
      ],
      "source": [
        "soup.find_all('li',attrs={'class':'rgWa7D'})"
      ]
    },
    {
      "cell_type": "code",
      "execution_count": null,
      "id": "521d12f9",
      "metadata": {
        "id": "521d12f9",
        "outputId": "8666b109-038a-401b-a633-69b669ded0ec"
      },
      "outputs": [
        {
          "data": {
            "text/plain": [
              "[<div class=\"_3I9_wc _27UcVY\">₹<!-- -->1,499</div>,\n",
              " <div class=\"_3I9_wc _27UcVY\">₹<!-- -->2,599</div>,\n",
              " <div class=\"_3I9_wc _27UcVY\">₹<!-- -->1,799</div>,\n",
              " <div class=\"_3I9_wc _27UcVY\">₹<!-- -->1,999</div>,\n",
              " <div class=\"_3I9_wc _27UcVY\">₹<!-- -->1,499</div>,\n",
              " <div class=\"_3I9_wc _27UcVY\">₹<!-- -->2,099</div>,\n",
              " <div class=\"_3I9_wc _27UcVY\">₹<!-- -->1,499</div>,\n",
              " <div class=\"_3I9_wc _27UcVY\">₹<!-- -->1,649</div>,\n",
              " <div class=\"_3I9_wc _27UcVY\">₹<!-- -->1,299</div>,\n",
              " <div class=\"_3I9_wc _27UcVY\">₹<!-- -->1,999</div>,\n",
              " <div class=\"_3I9_wc _27UcVY\">₹<!-- -->1,290</div>]"
            ]
          },
          "execution_count": 22,
          "metadata": {},
          "output_type": "execute_result"
        }
      ],
      "source": [
        "soup.find_all('div',attrs={'class':'_3I9_wc _27UcVY'})"
      ]
    },
    {
      "cell_type": "code",
      "execution_count": null,
      "id": "420233f1",
      "metadata": {
        "id": "420233f1",
        "outputId": "01526345-dcde-4e05-e193-7453c7922d68"
      },
      "outputs": [
        {
          "name": "stdout",
          "output_type": "stream",
          "text": [
            "Page 1 completed in 0.5420999526977539 seconds\n",
            "Page 2 completed in 0.811453104019165 seconds\n",
            "Page 3 completed in 0.969210147857666 seconds\n",
            "Page 4 completed in 0.8156700134277344 seconds\n",
            "Page 5 completed in 0.5351982116699219 seconds\n",
            "Page 6 completed in 0.7650818824768066 seconds\n",
            "Page 7 completed in 0.7476880550384521 seconds\n",
            "Page 8 completed in 1.1049418449401855 seconds\n",
            "Page 9 completed in 0.40053677558898926 seconds\n",
            "Page 10 completed in 0.36174726486206055 seconds\n",
            "Page 11 completed in 0.6494948863983154 seconds\n",
            "Page 12 completed in 0.7566580772399902 seconds\n",
            "Page 13 completed in 0.8981707096099854 seconds\n"
          ]
        }
      ],
      "source": [
        "productname = []\n",
        "price = []\n",
        "rating = []\n",
        "pagenum= []\n",
        "features=[]\n",
        "MRP_PRICE=[]\n",
        "\n",
        "\n",
        "for i in range(1,14):\n",
        "    start_time = time.time()\n",
        "    URL = 'https://www.flipkart.com/search?q=mobile+less+than+50000&otracker=search&otracker1=search&marketplace=FLIPKART&as-show=on&as=off&as-pos=1&as-type=HISTORY'.format(i).format(i)\n",
        "    page = requests.get(URL)\n",
        "    pagecontent = page.text\n",
        "    soup = BeautifulSoup(pagecontent)\n",
        "\n",
        "    for x in soup.find_all('div',attrs={'class':'_3pLy-c row'}):\n",
        "        pname = x.find('div',attrs={'class':'_4rR01T'})\n",
        "        cost = x.find('div',attrs={'class':'_1_WHN1'})\n",
        "        rat = x.find('div',attrs={'class':'_3LWZlK'})\n",
        "        feat=x.find('ul',attrs={'class':'_1xgFaf'})\n",
        "        MRP=x.find('div',attrs={'class':'_3I9_wc _27UcVY'})\n",
        "\n",
        "        if pname is None:\n",
        "            productname.append(np.NaN)\n",
        "        else:\n",
        "            productname.append(pname.text)\n",
        "\n",
        "        if cost is None:\n",
        "            price.append(np.NaN)\n",
        "        else:\n",
        "            price.append(cost.text)\n",
        "\n",
        "        if rat is None:\n",
        "            rating.append(np.NaN)\n",
        "        else:\n",
        "            rating.append(rat.text)\n",
        "\n",
        "        if feat is None:\n",
        "            features.append(np.NaN)\n",
        "        else:\n",
        "            features.append(feat.text)\n",
        "\n",
        "        if MRP is None:\n",
        "           MRP_PRICE.append(np.NaN)\n",
        "        else:\n",
        "            MRP_PRICE.append(MRP.text)\n",
        "\n",
        "\n",
        "\n",
        "\n",
        "            pagenum.append(i)\n",
        "\n",
        "    print('Page {} completed in {} seconds'.format(i, time.time() - start_time))\n",
        ""
      ]
    },
    {
      "cell_type": "code",
      "execution_count": null,
      "id": "77ced120",
      "metadata": {
        "id": "77ced120",
        "outputId": "1ec878a5-0419-44b0-f0ff-9b4dc2b9b051"
      },
      "outputs": [
        {
          "data": {
            "text/plain": [
              "312"
            ]
          },
          "execution_count": 24,
          "metadata": {},
          "output_type": "execute_result"
        }
      ],
      "source": [
        "len(productname)"
      ]
    },
    {
      "cell_type": "code",
      "execution_count": null,
      "id": "4c5005d7",
      "metadata": {
        "id": "4c5005d7"
      },
      "outputs": [],
      "source": [
        "a={'ProductName':productname, 'Price' :price, 'Rating':rating,'Features':features,'MRP_PRICE':MRP_PRICE}\n",
        "mobile_df=pd.DataFrame.from_dict(a, orient='index')\n",
        "mobile=mobile_df.transpose()"
      ]
    },
    {
      "cell_type": "code",
      "execution_count": null,
      "id": "3f5c90d3",
      "metadata": {
        "id": "3f5c90d3",
        "outputId": "1aaf9692-0dee-4f60-c426-2731ca9fbfb6"
      },
      "outputs": [
        {
          "data": {
            "text/html": [
              "<div>\n",
              "<style scoped>\n",
              "    .dataframe tbody tr th:only-of-type {\n",
              "        vertical-align: middle;\n",
              "    }\n",
              "\n",
              "    .dataframe tbody tr th {\n",
              "        vertical-align: top;\n",
              "    }\n",
              "\n",
              "    .dataframe thead th {\n",
              "        text-align: right;\n",
              "    }\n",
              "</style>\n",
              "<table border=\"1\" class=\"dataframe\">\n",
              "  <thead>\n",
              "    <tr style=\"text-align: right;\">\n",
              "      <th></th>\n",
              "      <th>ProductName</th>\n",
              "      <th>Price</th>\n",
              "      <th>Rating</th>\n",
              "      <th>Features</th>\n",
              "      <th>MRP_PRICE</th>\n",
              "    </tr>\n",
              "  </thead>\n",
              "  <tbody>\n",
              "    <tr>\n",
              "      <th>0</th>\n",
              "      <td>IAIR Basic Feature Dual Sim Mobile Phone with ...</td>\n",
              "      <td>₹1,169</td>\n",
              "      <td>4</td>\n",
              "      <td>32 MB RAM | 32 MB ROM | Expandable Upto 32 GB4...</td>\n",
              "      <td>₹1,499</td>\n",
              "    </tr>\n",
              "    <tr>\n",
              "      <th>1</th>\n",
              "      <td>I Kall K88 PRO 4G Keypad Mobile</td>\n",
              "      <td>₹1,899</td>\n",
              "      <td>3.5</td>\n",
              "      <td>48 MB RAM | 128 MB ROM | Expandable Upto 128 G...</td>\n",
              "      <td>₹2,599</td>\n",
              "    </tr>\n",
              "    <tr>\n",
              "      <th>2</th>\n",
              "      <td>SAREGAMA Carvaan Mobile M11(CM181) with 1500 p...</td>\n",
              "      <td>₹1,990</td>\n",
              "      <td>3.8</td>\n",
              "      <td>4 MB RAM | 2 GB ROM | Expandable Upto 8 GB4.57...</td>\n",
              "      <td>NaN</td>\n",
              "    </tr>\n",
              "    <tr>\n",
              "      <th>3</th>\n",
              "      <td>SAREGAMA Carvaan Keypad Mobile Tamil Don M12 w...</td>\n",
              "      <td>₹1,750</td>\n",
              "      <td>NaN</td>\n",
              "      <td>32 MB RAM | 1.3 GB ROM4.57 cm (1.8 inch) Displ...</td>\n",
              "      <td>NaN</td>\n",
              "    </tr>\n",
              "    <tr>\n",
              "      <th>4</th>\n",
              "      <td>SAREGAMA Carvaan Mobile Hindi Don M12 with 100...</td>\n",
              "      <td>₹1,750</td>\n",
              "      <td>4.3</td>\n",
              "      <td>32 MB RAM | 1.3 GB ROM4.57 cm (1.8 inch) Displ...</td>\n",
              "      <td>NaN</td>\n",
              "    </tr>\n",
              "  </tbody>\n",
              "</table>\n",
              "</div>"
            ],
            "text/plain": [
              "                                         ProductName   Price Rating  \\\n",
              "0  IAIR Basic Feature Dual Sim Mobile Phone with ...  ₹1,169      4   \n",
              "1                    I Kall K88 PRO 4G Keypad Mobile  ₹1,899    3.5   \n",
              "2  SAREGAMA Carvaan Mobile M11(CM181) with 1500 p...  ₹1,990    3.8   \n",
              "3  SAREGAMA Carvaan Keypad Mobile Tamil Don M12 w...  ₹1,750    NaN   \n",
              "4  SAREGAMA Carvaan Mobile Hindi Don M12 with 100...  ₹1,750    4.3   \n",
              "\n",
              "                                            Features MRP_PRICE  \n",
              "0  32 MB RAM | 32 MB ROM | Expandable Upto 32 GB4...    ₹1,499  \n",
              "1  48 MB RAM | 128 MB ROM | Expandable Upto 128 G...    ₹2,599  \n",
              "2  4 MB RAM | 2 GB ROM | Expandable Upto 8 GB4.57...       NaN  \n",
              "3  32 MB RAM | 1.3 GB ROM4.57 cm (1.8 inch) Displ...       NaN  \n",
              "4  32 MB RAM | 1.3 GB ROM4.57 cm (1.8 inch) Displ...       NaN  "
            ]
          },
          "execution_count": 26,
          "metadata": {},
          "output_type": "execute_result"
        }
      ],
      "source": [
        "mobile.head()"
      ]
    },
    {
      "cell_type": "code",
      "execution_count": null,
      "id": "5cac8748",
      "metadata": {
        "id": "5cac8748"
      },
      "outputs": [],
      "source": [
        "# battery\n",
        "\n",
        "regex = '[0-9\\s]+ mAh'\n",
        "mobile['Battery'] = mobile['Features'].apply(lambda x: re.compile(regex).findall(x))\n"
      ]
    },
    {
      "cell_type": "code",
      "execution_count": null,
      "id": "efe247e2",
      "metadata": {
        "id": "efe247e2",
        "outputId": "08aa24af-1f45-402f-df26-d02cfd0813ea"
      },
      "outputs": [
        {
          "data": {
            "text/html": [
              "<div>\n",
              "<style scoped>\n",
              "    .dataframe tbody tr th:only-of-type {\n",
              "        vertical-align: middle;\n",
              "    }\n",
              "\n",
              "    .dataframe tbody tr th {\n",
              "        vertical-align: top;\n",
              "    }\n",
              "\n",
              "    .dataframe thead th {\n",
              "        text-align: right;\n",
              "    }\n",
              "</style>\n",
              "<table border=\"1\" class=\"dataframe\">\n",
              "  <thead>\n",
              "    <tr style=\"text-align: right;\">\n",
              "      <th></th>\n",
              "      <th>ProductName</th>\n",
              "      <th>Price</th>\n",
              "      <th>Rating</th>\n",
              "      <th>Features</th>\n",
              "      <th>MRP_PRICE</th>\n",
              "      <th>Battery</th>\n",
              "    </tr>\n",
              "  </thead>\n",
              "  <tbody>\n",
              "    <tr>\n",
              "      <th>0</th>\n",
              "      <td>IAIR Basic Feature Dual Sim Mobile Phone with ...</td>\n",
              "      <td>₹1,169</td>\n",
              "      <td>4</td>\n",
              "      <td>32 MB RAM | 32 MB ROM | Expandable Upto 32 GB4...</td>\n",
              "      <td>₹1,499</td>\n",
              "      <td>[2800 mAh]</td>\n",
              "    </tr>\n",
              "    <tr>\n",
              "      <th>1</th>\n",
              "      <td>I Kall K88 PRO 4G Keypad Mobile</td>\n",
              "      <td>₹1,899</td>\n",
              "      <td>3.5</td>\n",
              "      <td>48 MB RAM | 128 MB ROM | Expandable Upto 128 G...</td>\n",
              "      <td>₹2,599</td>\n",
              "      <td>[1800 mAh]</td>\n",
              "    </tr>\n",
              "    <tr>\n",
              "      <th>2</th>\n",
              "      <td>SAREGAMA Carvaan Mobile M11(CM181) with 1500 p...</td>\n",
              "      <td>₹1,990</td>\n",
              "      <td>3.8</td>\n",
              "      <td>4 MB RAM | 2 GB ROM | Expandable Upto 8 GB4.57...</td>\n",
              "      <td>NaN</td>\n",
              "      <td>[1800 mAh]</td>\n",
              "    </tr>\n",
              "    <tr>\n",
              "      <th>3</th>\n",
              "      <td>SAREGAMA Carvaan Keypad Mobile Tamil Don M12 w...</td>\n",
              "      <td>₹1,750</td>\n",
              "      <td>NaN</td>\n",
              "      <td>32 MB RAM | 1.3 GB ROM4.57 cm (1.8 inch) Displ...</td>\n",
              "      <td>NaN</td>\n",
              "      <td>[800 mAh]</td>\n",
              "    </tr>\n",
              "    <tr>\n",
              "      <th>4</th>\n",
              "      <td>SAREGAMA Carvaan Mobile Hindi Don M12 with 100...</td>\n",
              "      <td>₹1,750</td>\n",
              "      <td>4.3</td>\n",
              "      <td>32 MB RAM | 1.3 GB ROM4.57 cm (1.8 inch) Displ...</td>\n",
              "      <td>NaN</td>\n",
              "      <td>[800 mAh]</td>\n",
              "    </tr>\n",
              "  </tbody>\n",
              "</table>\n",
              "</div>"
            ],
            "text/plain": [
              "                                         ProductName   Price Rating  \\\n",
              "0  IAIR Basic Feature Dual Sim Mobile Phone with ...  ₹1,169      4   \n",
              "1                    I Kall K88 PRO 4G Keypad Mobile  ₹1,899    3.5   \n",
              "2  SAREGAMA Carvaan Mobile M11(CM181) with 1500 p...  ₹1,990    3.8   \n",
              "3  SAREGAMA Carvaan Keypad Mobile Tamil Don M12 w...  ₹1,750    NaN   \n",
              "4  SAREGAMA Carvaan Mobile Hindi Don M12 with 100...  ₹1,750    4.3   \n",
              "\n",
              "                                            Features MRP_PRICE     Battery  \n",
              "0  32 MB RAM | 32 MB ROM | Expandable Upto 32 GB4...    ₹1,499  [2800 mAh]  \n",
              "1  48 MB RAM | 128 MB ROM | Expandable Upto 128 G...    ₹2,599  [1800 mAh]  \n",
              "2  4 MB RAM | 2 GB ROM | Expandable Upto 8 GB4.57...       NaN  [1800 mAh]  \n",
              "3  32 MB RAM | 1.3 GB ROM4.57 cm (1.8 inch) Displ...       NaN   [800 mAh]  \n",
              "4  32 MB RAM | 1.3 GB ROM4.57 cm (1.8 inch) Displ...       NaN   [800 mAh]  "
            ]
          },
          "execution_count": 29,
          "metadata": {},
          "output_type": "execute_result"
        }
      ],
      "source": [
        "mobile.head()"
      ]
    },
    {
      "cell_type": "code",
      "execution_count": null,
      "id": "f4e95c3f",
      "metadata": {
        "id": "f4e95c3f",
        "outputId": "5bad2392-782d-4ada-97ed-de8d37239b7c"
      },
      "outputs": [
        {
          "data": {
            "text/plain": [
              "'32 MB RAM | 32 MB ROM | Expandable Upto 32 GB4.5 cm (1.77 inch) Display0.8MP + 0.8MP2800 mAh Battery1 Year manufacturer warranty for device and 6 months manufacturer warranty for in-box accessories including batteries from the date of purchase'"
            ]
          },
          "execution_count": 30,
          "metadata": {},
          "output_type": "execute_result"
        }
      ],
      "source": [
        "mobile['Features'][0]"
      ]
    },
    {
      "cell_type": "code",
      "execution_count": null,
      "id": "5866664f",
      "metadata": {
        "id": "5866664f"
      },
      "outputs": [],
      "source": [
        "#display\n",
        "\n",
        "regex = '[0-9.\\s]+(?:cm|inch)'\n",
        "mobile['Display'] = mobile['Features'].apply(lambda x: re.compile(regex).findall(x))\n"
      ]
    },
    {
      "cell_type": "code",
      "execution_count": null,
      "id": "df5927cf",
      "metadata": {
        "id": "df5927cf",
        "outputId": "b8362213-1cd1-42e2-916a-7361356e8bea"
      },
      "outputs": [
        {
          "data": {
            "text/html": [
              "<div>\n",
              "<style scoped>\n",
              "    .dataframe tbody tr th:only-of-type {\n",
              "        vertical-align: middle;\n",
              "    }\n",
              "\n",
              "    .dataframe tbody tr th {\n",
              "        vertical-align: top;\n",
              "    }\n",
              "\n",
              "    .dataframe thead th {\n",
              "        text-align: right;\n",
              "    }\n",
              "</style>\n",
              "<table border=\"1\" class=\"dataframe\">\n",
              "  <thead>\n",
              "    <tr style=\"text-align: right;\">\n",
              "      <th></th>\n",
              "      <th>ProductName</th>\n",
              "      <th>Price</th>\n",
              "      <th>Rating</th>\n",
              "      <th>Features</th>\n",
              "      <th>MRP_PRICE</th>\n",
              "      <th>Battery</th>\n",
              "      <th>Display</th>\n",
              "    </tr>\n",
              "  </thead>\n",
              "  <tbody>\n",
              "    <tr>\n",
              "      <th>0</th>\n",
              "      <td>IAIR Basic Feature Dual Sim Mobile Phone with ...</td>\n",
              "      <td>₹1,169</td>\n",
              "      <td>4</td>\n",
              "      <td>32 MB RAM | 32 MB ROM | Expandable Upto 32 GB4...</td>\n",
              "      <td>₹1,499</td>\n",
              "      <td>[2800 mAh]</td>\n",
              "      <td>[4.5 cm, 1.77 inch]</td>\n",
              "    </tr>\n",
              "    <tr>\n",
              "      <th>1</th>\n",
              "      <td>I Kall K88 PRO 4G Keypad Mobile</td>\n",
              "      <td>₹1,899</td>\n",
              "      <td>3.5</td>\n",
              "      <td>48 MB RAM | 128 MB ROM | Expandable Upto 128 G...</td>\n",
              "      <td>₹2,599</td>\n",
              "      <td>[1800 mAh]</td>\n",
              "      <td>[6.1 cm, 2.4 inch]</td>\n",
              "    </tr>\n",
              "    <tr>\n",
              "      <th>2</th>\n",
              "      <td>SAREGAMA Carvaan Mobile M11(CM181) with 1500 p...</td>\n",
              "      <td>₹1,990</td>\n",
              "      <td>3.8</td>\n",
              "      <td>4 MB RAM | 2 GB ROM | Expandable Upto 8 GB4.57...</td>\n",
              "      <td>NaN</td>\n",
              "      <td>[1800 mAh]</td>\n",
              "      <td>[4.57 cm, 1.8 inch]</td>\n",
              "    </tr>\n",
              "    <tr>\n",
              "      <th>3</th>\n",
              "      <td>SAREGAMA Carvaan Keypad Mobile Tamil Don M12 w...</td>\n",
              "      <td>₹1,750</td>\n",
              "      <td>NaN</td>\n",
              "      <td>32 MB RAM | 1.3 GB ROM4.57 cm (1.8 inch) Displ...</td>\n",
              "      <td>NaN</td>\n",
              "      <td>[800 mAh]</td>\n",
              "      <td>[4.57 cm, 1.8 inch]</td>\n",
              "    </tr>\n",
              "    <tr>\n",
              "      <th>4</th>\n",
              "      <td>SAREGAMA Carvaan Mobile Hindi Don M12 with 100...</td>\n",
              "      <td>₹1,750</td>\n",
              "      <td>4.3</td>\n",
              "      <td>32 MB RAM | 1.3 GB ROM4.57 cm (1.8 inch) Displ...</td>\n",
              "      <td>NaN</td>\n",
              "      <td>[800 mAh]</td>\n",
              "      <td>[4.57 cm, 1.8 inch]</td>\n",
              "    </tr>\n",
              "  </tbody>\n",
              "</table>\n",
              "</div>"
            ],
            "text/plain": [
              "                                         ProductName   Price Rating  \\\n",
              "0  IAIR Basic Feature Dual Sim Mobile Phone with ...  ₹1,169      4   \n",
              "1                    I Kall K88 PRO 4G Keypad Mobile  ₹1,899    3.5   \n",
              "2  SAREGAMA Carvaan Mobile M11(CM181) with 1500 p...  ₹1,990    3.8   \n",
              "3  SAREGAMA Carvaan Keypad Mobile Tamil Don M12 w...  ₹1,750    NaN   \n",
              "4  SAREGAMA Carvaan Mobile Hindi Don M12 with 100...  ₹1,750    4.3   \n",
              "\n",
              "                                            Features MRP_PRICE     Battery  \\\n",
              "0  32 MB RAM | 32 MB ROM | Expandable Upto 32 GB4...    ₹1,499  [2800 mAh]   \n",
              "1  48 MB RAM | 128 MB ROM | Expandable Upto 128 G...    ₹2,599  [1800 mAh]   \n",
              "2  4 MB RAM | 2 GB ROM | Expandable Upto 8 GB4.57...       NaN  [1800 mAh]   \n",
              "3  32 MB RAM | 1.3 GB ROM4.57 cm (1.8 inch) Displ...       NaN   [800 mAh]   \n",
              "4  32 MB RAM | 1.3 GB ROM4.57 cm (1.8 inch) Displ...       NaN   [800 mAh]   \n",
              "\n",
              "               Display  \n",
              "0  [4.5 cm, 1.77 inch]  \n",
              "1   [6.1 cm, 2.4 inch]  \n",
              "2  [4.57 cm, 1.8 inch]  \n",
              "3  [4.57 cm, 1.8 inch]  \n",
              "4  [4.57 cm, 1.8 inch]  "
            ]
          },
          "execution_count": 32,
          "metadata": {},
          "output_type": "execute_result"
        }
      ],
      "source": [
        "mobile.head()"
      ]
    },
    {
      "cell_type": "code",
      "execution_count": null,
      "id": "64158db5",
      "metadata": {
        "id": "64158db5"
      },
      "outputs": [],
      "source": [
        "#RAM\n",
        "\n",
        "regex = '(^\\d GB)'\n",
        "mobile['RAM(GB)'] = mobile['Features'].apply(lambda x: re.compile(regex).findall(x))"
      ]
    },
    {
      "cell_type": "code",
      "execution_count": null,
      "id": "fa76909f",
      "metadata": {
        "id": "fa76909f",
        "outputId": "564c1bfa-ad79-4bb1-e153-8624a4e166b2"
      },
      "outputs": [
        {
          "data": {
            "text/html": [
              "<div>\n",
              "<style scoped>\n",
              "    .dataframe tbody tr th:only-of-type {\n",
              "        vertical-align: middle;\n",
              "    }\n",
              "\n",
              "    .dataframe tbody tr th {\n",
              "        vertical-align: top;\n",
              "    }\n",
              "\n",
              "    .dataframe thead th {\n",
              "        text-align: right;\n",
              "    }\n",
              "</style>\n",
              "<table border=\"1\" class=\"dataframe\">\n",
              "  <thead>\n",
              "    <tr style=\"text-align: right;\">\n",
              "      <th></th>\n",
              "      <th>ProductName</th>\n",
              "      <th>Price</th>\n",
              "      <th>Rating</th>\n",
              "      <th>Features</th>\n",
              "      <th>MRP_PRICE</th>\n",
              "      <th>Battery</th>\n",
              "      <th>Display</th>\n",
              "      <th>RAM(GB)</th>\n",
              "    </tr>\n",
              "  </thead>\n",
              "  <tbody>\n",
              "    <tr>\n",
              "      <th>0</th>\n",
              "      <td>IAIR Basic Feature Dual Sim Mobile Phone with ...</td>\n",
              "      <td>₹1,169</td>\n",
              "      <td>4</td>\n",
              "      <td>32 MB RAM | 32 MB ROM | Expandable Upto 32 GB4...</td>\n",
              "      <td>₹1,499</td>\n",
              "      <td>[2800 mAh]</td>\n",
              "      <td>[4.5 cm, 1.77 inch]</td>\n",
              "      <td>[]</td>\n",
              "    </tr>\n",
              "    <tr>\n",
              "      <th>1</th>\n",
              "      <td>I Kall K88 PRO 4G Keypad Mobile</td>\n",
              "      <td>₹1,899</td>\n",
              "      <td>3.5</td>\n",
              "      <td>48 MB RAM | 128 MB ROM | Expandable Upto 128 G...</td>\n",
              "      <td>₹2,599</td>\n",
              "      <td>[1800 mAh]</td>\n",
              "      <td>[6.1 cm, 2.4 inch]</td>\n",
              "      <td>[]</td>\n",
              "    </tr>\n",
              "    <tr>\n",
              "      <th>2</th>\n",
              "      <td>SAREGAMA Carvaan Mobile M11(CM181) with 1500 p...</td>\n",
              "      <td>₹1,990</td>\n",
              "      <td>3.8</td>\n",
              "      <td>4 MB RAM | 2 GB ROM | Expandable Upto 8 GB4.57...</td>\n",
              "      <td>NaN</td>\n",
              "      <td>[1800 mAh]</td>\n",
              "      <td>[4.57 cm, 1.8 inch]</td>\n",
              "      <td>[]</td>\n",
              "    </tr>\n",
              "    <tr>\n",
              "      <th>3</th>\n",
              "      <td>SAREGAMA Carvaan Keypad Mobile Tamil Don M12 w...</td>\n",
              "      <td>₹1,750</td>\n",
              "      <td>NaN</td>\n",
              "      <td>32 MB RAM | 1.3 GB ROM4.57 cm (1.8 inch) Displ...</td>\n",
              "      <td>NaN</td>\n",
              "      <td>[800 mAh]</td>\n",
              "      <td>[4.57 cm, 1.8 inch]</td>\n",
              "      <td>[]</td>\n",
              "    </tr>\n",
              "    <tr>\n",
              "      <th>4</th>\n",
              "      <td>SAREGAMA Carvaan Mobile Hindi Don M12 with 100...</td>\n",
              "      <td>₹1,750</td>\n",
              "      <td>4.3</td>\n",
              "      <td>32 MB RAM | 1.3 GB ROM4.57 cm (1.8 inch) Displ...</td>\n",
              "      <td>NaN</td>\n",
              "      <td>[800 mAh]</td>\n",
              "      <td>[4.57 cm, 1.8 inch]</td>\n",
              "      <td>[]</td>\n",
              "    </tr>\n",
              "  </tbody>\n",
              "</table>\n",
              "</div>"
            ],
            "text/plain": [
              "                                         ProductName   Price Rating  \\\n",
              "0  IAIR Basic Feature Dual Sim Mobile Phone with ...  ₹1,169      4   \n",
              "1                    I Kall K88 PRO 4G Keypad Mobile  ₹1,899    3.5   \n",
              "2  SAREGAMA Carvaan Mobile M11(CM181) with 1500 p...  ₹1,990    3.8   \n",
              "3  SAREGAMA Carvaan Keypad Mobile Tamil Don M12 w...  ₹1,750    NaN   \n",
              "4  SAREGAMA Carvaan Mobile Hindi Don M12 with 100...  ₹1,750    4.3   \n",
              "\n",
              "                                            Features MRP_PRICE     Battery  \\\n",
              "0  32 MB RAM | 32 MB ROM | Expandable Upto 32 GB4...    ₹1,499  [2800 mAh]   \n",
              "1  48 MB RAM | 128 MB ROM | Expandable Upto 128 G...    ₹2,599  [1800 mAh]   \n",
              "2  4 MB RAM | 2 GB ROM | Expandable Upto 8 GB4.57...       NaN  [1800 mAh]   \n",
              "3  32 MB RAM | 1.3 GB ROM4.57 cm (1.8 inch) Displ...       NaN   [800 mAh]   \n",
              "4  32 MB RAM | 1.3 GB ROM4.57 cm (1.8 inch) Displ...       NaN   [800 mAh]   \n",
              "\n",
              "               Display RAM(GB)  \n",
              "0  [4.5 cm, 1.77 inch]      []  \n",
              "1   [6.1 cm, 2.4 inch]      []  \n",
              "2  [4.57 cm, 1.8 inch]      []  \n",
              "3  [4.57 cm, 1.8 inch]      []  \n",
              "4  [4.57 cm, 1.8 inch]      []  "
            ]
          },
          "execution_count": 34,
          "metadata": {},
          "output_type": "execute_result"
        }
      ],
      "source": [
        "mobile.head()"
      ]
    },
    {
      "cell_type": "code",
      "execution_count": null,
      "id": "9c62a2d6",
      "metadata": {
        "id": "9c62a2d6"
      },
      "outputs": [],
      "source": [
        "#RoM\n",
        "\n",
        "regex = '(\\d{2,} GB )'\n",
        "mobile['R0M(GB)'] = mobile['Features'].apply(lambda x: re.compile(regex).findall(x))\n"
      ]
    },
    {
      "cell_type": "code",
      "execution_count": null,
      "id": "abcd5c7a",
      "metadata": {
        "id": "abcd5c7a",
        "outputId": "76afa426-bda5-41a9-e19d-c3be3e34abdc"
      },
      "outputs": [
        {
          "data": {
            "text/html": [
              "<div>\n",
              "<style scoped>\n",
              "    .dataframe tbody tr th:only-of-type {\n",
              "        vertical-align: middle;\n",
              "    }\n",
              "\n",
              "    .dataframe tbody tr th {\n",
              "        vertical-align: top;\n",
              "    }\n",
              "\n",
              "    .dataframe thead th {\n",
              "        text-align: right;\n",
              "    }\n",
              "</style>\n",
              "<table border=\"1\" class=\"dataframe\">\n",
              "  <thead>\n",
              "    <tr style=\"text-align: right;\">\n",
              "      <th></th>\n",
              "      <th>ProductName</th>\n",
              "      <th>Price</th>\n",
              "      <th>Rating</th>\n",
              "      <th>Features</th>\n",
              "      <th>MRP_PRICE</th>\n",
              "      <th>Battery</th>\n",
              "      <th>Display</th>\n",
              "      <th>RAM(GB)</th>\n",
              "      <th>R0M(GB)</th>\n",
              "    </tr>\n",
              "  </thead>\n",
              "  <tbody>\n",
              "    <tr>\n",
              "      <th>0</th>\n",
              "      <td>IAIR Basic Feature Dual Sim Mobile Phone with ...</td>\n",
              "      <td>₹1,169</td>\n",
              "      <td>4</td>\n",
              "      <td>32 MB RAM | 32 MB ROM | Expandable Upto 32 GB4...</td>\n",
              "      <td>₹1,499</td>\n",
              "      <td>[2800 mAh]</td>\n",
              "      <td>[4.5 cm, 1.77 inch]</td>\n",
              "      <td>[]</td>\n",
              "      <td>[]</td>\n",
              "    </tr>\n",
              "    <tr>\n",
              "      <th>1</th>\n",
              "      <td>I Kall K88 PRO 4G Keypad Mobile</td>\n",
              "      <td>₹1,899</td>\n",
              "      <td>3.5</td>\n",
              "      <td>48 MB RAM | 128 MB ROM | Expandable Upto 128 G...</td>\n",
              "      <td>₹2,599</td>\n",
              "      <td>[1800 mAh]</td>\n",
              "      <td>[6.1 cm, 2.4 inch]</td>\n",
              "      <td>[]</td>\n",
              "      <td>[]</td>\n",
              "    </tr>\n",
              "    <tr>\n",
              "      <th>2</th>\n",
              "      <td>SAREGAMA Carvaan Mobile M11(CM181) with 1500 p...</td>\n",
              "      <td>₹1,990</td>\n",
              "      <td>3.8</td>\n",
              "      <td>4 MB RAM | 2 GB ROM | Expandable Upto 8 GB4.57...</td>\n",
              "      <td>NaN</td>\n",
              "      <td>[1800 mAh]</td>\n",
              "      <td>[4.57 cm, 1.8 inch]</td>\n",
              "      <td>[]</td>\n",
              "      <td>[]</td>\n",
              "    </tr>\n",
              "    <tr>\n",
              "      <th>3</th>\n",
              "      <td>SAREGAMA Carvaan Keypad Mobile Tamil Don M12 w...</td>\n",
              "      <td>₹1,750</td>\n",
              "      <td>NaN</td>\n",
              "      <td>32 MB RAM | 1.3 GB ROM4.57 cm (1.8 inch) Displ...</td>\n",
              "      <td>NaN</td>\n",
              "      <td>[800 mAh]</td>\n",
              "      <td>[4.57 cm, 1.8 inch]</td>\n",
              "      <td>[]</td>\n",
              "      <td>[]</td>\n",
              "    </tr>\n",
              "    <tr>\n",
              "      <th>4</th>\n",
              "      <td>SAREGAMA Carvaan Mobile Hindi Don M12 with 100...</td>\n",
              "      <td>₹1,750</td>\n",
              "      <td>4.3</td>\n",
              "      <td>32 MB RAM | 1.3 GB ROM4.57 cm (1.8 inch) Displ...</td>\n",
              "      <td>NaN</td>\n",
              "      <td>[800 mAh]</td>\n",
              "      <td>[4.57 cm, 1.8 inch]</td>\n",
              "      <td>[]</td>\n",
              "      <td>[]</td>\n",
              "    </tr>\n",
              "  </tbody>\n",
              "</table>\n",
              "</div>"
            ],
            "text/plain": [
              "                                         ProductName   Price Rating  \\\n",
              "0  IAIR Basic Feature Dual Sim Mobile Phone with ...  ₹1,169      4   \n",
              "1                    I Kall K88 PRO 4G Keypad Mobile  ₹1,899    3.5   \n",
              "2  SAREGAMA Carvaan Mobile M11(CM181) with 1500 p...  ₹1,990    3.8   \n",
              "3  SAREGAMA Carvaan Keypad Mobile Tamil Don M12 w...  ₹1,750    NaN   \n",
              "4  SAREGAMA Carvaan Mobile Hindi Don M12 with 100...  ₹1,750    4.3   \n",
              "\n",
              "                                            Features MRP_PRICE     Battery  \\\n",
              "0  32 MB RAM | 32 MB ROM | Expandable Upto 32 GB4...    ₹1,499  [2800 mAh]   \n",
              "1  48 MB RAM | 128 MB ROM | Expandable Upto 128 G...    ₹2,599  [1800 mAh]   \n",
              "2  4 MB RAM | 2 GB ROM | Expandable Upto 8 GB4.57...       NaN  [1800 mAh]   \n",
              "3  32 MB RAM | 1.3 GB ROM4.57 cm (1.8 inch) Displ...       NaN   [800 mAh]   \n",
              "4  32 MB RAM | 1.3 GB ROM4.57 cm (1.8 inch) Displ...       NaN   [800 mAh]   \n",
              "\n",
              "               Display RAM(GB) R0M(GB)  \n",
              "0  [4.5 cm, 1.77 inch]      []      []  \n",
              "1   [6.1 cm, 2.4 inch]      []      []  \n",
              "2  [4.57 cm, 1.8 inch]      []      []  \n",
              "3  [4.57 cm, 1.8 inch]      []      []  \n",
              "4  [4.57 cm, 1.8 inch]      []      []  "
            ]
          },
          "execution_count": 36,
          "metadata": {},
          "output_type": "execute_result"
        }
      ],
      "source": [
        "mobile.head()"
      ]
    },
    {
      "cell_type": "code",
      "execution_count": null,
      "id": "4406452f",
      "metadata": {
        "id": "4406452f"
      },
      "outputs": [],
      "source": [
        "#processor details\n",
        "\n",
        "regex = '( \\D\\d\\d\\s+Processor| \\d\\d\\d\\s+Processor)'\n",
        "\n",
        "mobile['Processor'] = mobile['Features'].apply(lambda x: re.compile(regex).findall(x))"
      ]
    },
    {
      "cell_type": "code",
      "execution_count": null,
      "id": "055e813f",
      "metadata": {
        "id": "055e813f",
        "outputId": "7de775e8-c60b-499c-a6b9-72d7f7a8426c"
      },
      "outputs": [
        {
          "data": {
            "text/html": [
              "<div>\n",
              "<style scoped>\n",
              "    .dataframe tbody tr th:only-of-type {\n",
              "        vertical-align: middle;\n",
              "    }\n",
              "\n",
              "    .dataframe tbody tr th {\n",
              "        vertical-align: top;\n",
              "    }\n",
              "\n",
              "    .dataframe thead th {\n",
              "        text-align: right;\n",
              "    }\n",
              "</style>\n",
              "<table border=\"1\" class=\"dataframe\">\n",
              "  <thead>\n",
              "    <tr style=\"text-align: right;\">\n",
              "      <th></th>\n",
              "      <th>ProductName</th>\n",
              "      <th>Price</th>\n",
              "      <th>Rating</th>\n",
              "      <th>Features</th>\n",
              "      <th>MRP_PRICE</th>\n",
              "      <th>Battery</th>\n",
              "      <th>Display</th>\n",
              "      <th>RAM(GB)</th>\n",
              "      <th>R0M(GB)</th>\n",
              "      <th>Processor</th>\n",
              "    </tr>\n",
              "  </thead>\n",
              "  <tbody>\n",
              "    <tr>\n",
              "      <th>0</th>\n",
              "      <td>IAIR Basic Feature Dual Sim Mobile Phone with ...</td>\n",
              "      <td>₹1,169</td>\n",
              "      <td>4</td>\n",
              "      <td>32 MB RAM | 32 MB ROM | Expandable Upto 32 GB4...</td>\n",
              "      <td>₹1,499</td>\n",
              "      <td>[2800 mAh]</td>\n",
              "      <td>[4.5 cm, 1.77 inch]</td>\n",
              "      <td>[]</td>\n",
              "      <td>[]</td>\n",
              "      <td>[]</td>\n",
              "    </tr>\n",
              "    <tr>\n",
              "      <th>1</th>\n",
              "      <td>I Kall K88 PRO 4G Keypad Mobile</td>\n",
              "      <td>₹1,899</td>\n",
              "      <td>3.5</td>\n",
              "      <td>48 MB RAM | 128 MB ROM | Expandable Upto 128 G...</td>\n",
              "      <td>₹2,599</td>\n",
              "      <td>[1800 mAh]</td>\n",
              "      <td>[6.1 cm, 2.4 inch]</td>\n",
              "      <td>[]</td>\n",
              "      <td>[]</td>\n",
              "      <td>[]</td>\n",
              "    </tr>\n",
              "    <tr>\n",
              "      <th>2</th>\n",
              "      <td>SAREGAMA Carvaan Mobile M11(CM181) with 1500 p...</td>\n",
              "      <td>₹1,990</td>\n",
              "      <td>3.8</td>\n",
              "      <td>4 MB RAM | 2 GB ROM | Expandable Upto 8 GB4.57...</td>\n",
              "      <td>NaN</td>\n",
              "      <td>[1800 mAh]</td>\n",
              "      <td>[4.57 cm, 1.8 inch]</td>\n",
              "      <td>[]</td>\n",
              "      <td>[]</td>\n",
              "      <td>[]</td>\n",
              "    </tr>\n",
              "    <tr>\n",
              "      <th>3</th>\n",
              "      <td>SAREGAMA Carvaan Keypad Mobile Tamil Don M12 w...</td>\n",
              "      <td>₹1,750</td>\n",
              "      <td>NaN</td>\n",
              "      <td>32 MB RAM | 1.3 GB ROM4.57 cm (1.8 inch) Displ...</td>\n",
              "      <td>NaN</td>\n",
              "      <td>[800 mAh]</td>\n",
              "      <td>[4.57 cm, 1.8 inch]</td>\n",
              "      <td>[]</td>\n",
              "      <td>[]</td>\n",
              "      <td>[]</td>\n",
              "    </tr>\n",
              "    <tr>\n",
              "      <th>4</th>\n",
              "      <td>SAREGAMA Carvaan Mobile Hindi Don M12 with 100...</td>\n",
              "      <td>₹1,750</td>\n",
              "      <td>4.3</td>\n",
              "      <td>32 MB RAM | 1.3 GB ROM4.57 cm (1.8 inch) Displ...</td>\n",
              "      <td>NaN</td>\n",
              "      <td>[800 mAh]</td>\n",
              "      <td>[4.57 cm, 1.8 inch]</td>\n",
              "      <td>[]</td>\n",
              "      <td>[]</td>\n",
              "      <td>[]</td>\n",
              "    </tr>\n",
              "  </tbody>\n",
              "</table>\n",
              "</div>"
            ],
            "text/plain": [
              "                                         ProductName   Price Rating  \\\n",
              "0  IAIR Basic Feature Dual Sim Mobile Phone with ...  ₹1,169      4   \n",
              "1                    I Kall K88 PRO 4G Keypad Mobile  ₹1,899    3.5   \n",
              "2  SAREGAMA Carvaan Mobile M11(CM181) with 1500 p...  ₹1,990    3.8   \n",
              "3  SAREGAMA Carvaan Keypad Mobile Tamil Don M12 w...  ₹1,750    NaN   \n",
              "4  SAREGAMA Carvaan Mobile Hindi Don M12 with 100...  ₹1,750    4.3   \n",
              "\n",
              "                                            Features MRP_PRICE     Battery  \\\n",
              "0  32 MB RAM | 32 MB ROM | Expandable Upto 32 GB4...    ₹1,499  [2800 mAh]   \n",
              "1  48 MB RAM | 128 MB ROM | Expandable Upto 128 G...    ₹2,599  [1800 mAh]   \n",
              "2  4 MB RAM | 2 GB ROM | Expandable Upto 8 GB4.57...       NaN  [1800 mAh]   \n",
              "3  32 MB RAM | 1.3 GB ROM4.57 cm (1.8 inch) Displ...       NaN   [800 mAh]   \n",
              "4  32 MB RAM | 1.3 GB ROM4.57 cm (1.8 inch) Displ...       NaN   [800 mAh]   \n",
              "\n",
              "               Display RAM(GB) R0M(GB) Processor  \n",
              "0  [4.5 cm, 1.77 inch]      []      []        []  \n",
              "1   [6.1 cm, 2.4 inch]      []      []        []  \n",
              "2  [4.57 cm, 1.8 inch]      []      []        []  \n",
              "3  [4.57 cm, 1.8 inch]      []      []        []  \n",
              "4  [4.57 cm, 1.8 inch]      []      []        []  "
            ]
          },
          "execution_count": 38,
          "metadata": {},
          "output_type": "execute_result"
        }
      ],
      "source": [
        "mobile.head()"
      ]
    },
    {
      "cell_type": "code",
      "execution_count": null,
      "id": "fb8efb78",
      "metadata": {
        "id": "fb8efb78",
        "outputId": "6d9292f8-1233-42df-bcf5-40576c31319f"
      },
      "outputs": [
        {
          "data": {
            "text/plain": [
              "'32 MB RAM | 32 MB ROM | Expandable Upto 32 GB4.5 cm (1.77 inch) Display0.8MP + 0.8MP2800 mAh Battery1 Year manufacturer warranty for device and 6 months manufacturer warranty for in-box accessories including batteries from the date of purchase'"
            ]
          },
          "execution_count": 39,
          "metadata": {},
          "output_type": "execute_result"
        }
      ],
      "source": [
        "mobile['Features'][0]\n"
      ]
    },
    {
      "cell_type": "code",
      "execution_count": null,
      "id": "7c38fd6a",
      "metadata": {
        "id": "7c38fd6a"
      },
      "outputs": [],
      "source": [
        "# waranty for mobile\n",
        "\n",
        "regex = '(\\d\\s(?:Year))'\n",
        "mobile['Mobile Waranty'] = mobile['Features'].apply(lambda x: re.compile(regex).findall(x))"
      ]
    },
    {
      "cell_type": "code",
      "execution_count": null,
      "id": "d4bcd3e1",
      "metadata": {
        "id": "d4bcd3e1",
        "outputId": "9d1d836e-dd4f-407f-c9c4-b3b5e7be1220"
      },
      "outputs": [
        {
          "data": {
            "text/html": [
              "<div>\n",
              "<style scoped>\n",
              "    .dataframe tbody tr th:only-of-type {\n",
              "        vertical-align: middle;\n",
              "    }\n",
              "\n",
              "    .dataframe tbody tr th {\n",
              "        vertical-align: top;\n",
              "    }\n",
              "\n",
              "    .dataframe thead th {\n",
              "        text-align: right;\n",
              "    }\n",
              "</style>\n",
              "<table border=\"1\" class=\"dataframe\">\n",
              "  <thead>\n",
              "    <tr style=\"text-align: right;\">\n",
              "      <th></th>\n",
              "      <th>ProductName</th>\n",
              "      <th>Price</th>\n",
              "      <th>Rating</th>\n",
              "      <th>Features</th>\n",
              "      <th>MRP_PRICE</th>\n",
              "      <th>Battery</th>\n",
              "      <th>Display</th>\n",
              "      <th>RAM(GB)</th>\n",
              "      <th>R0M(GB)</th>\n",
              "      <th>Processor</th>\n",
              "      <th>Mobile Waranty</th>\n",
              "    </tr>\n",
              "  </thead>\n",
              "  <tbody>\n",
              "    <tr>\n",
              "      <th>0</th>\n",
              "      <td>IAIR Basic Feature Dual Sim Mobile Phone with ...</td>\n",
              "      <td>₹1,169</td>\n",
              "      <td>4</td>\n",
              "      <td>32 MB RAM | 32 MB ROM | Expandable Upto 32 GB4...</td>\n",
              "      <td>₹1,499</td>\n",
              "      <td>[2800 mAh]</td>\n",
              "      <td>[4.5 cm, 1.77 inch]</td>\n",
              "      <td>[]</td>\n",
              "      <td>[]</td>\n",
              "      <td>[]</td>\n",
              "      <td>[1 Year]</td>\n",
              "    </tr>\n",
              "    <tr>\n",
              "      <th>1</th>\n",
              "      <td>I Kall K88 PRO 4G Keypad Mobile</td>\n",
              "      <td>₹1,899</td>\n",
              "      <td>3.5</td>\n",
              "      <td>48 MB RAM | 128 MB ROM | Expandable Upto 128 G...</td>\n",
              "      <td>₹2,599</td>\n",
              "      <td>[1800 mAh]</td>\n",
              "      <td>[6.1 cm, 2.4 inch]</td>\n",
              "      <td>[]</td>\n",
              "      <td>[]</td>\n",
              "      <td>[]</td>\n",
              "      <td>[1 Year]</td>\n",
              "    </tr>\n",
              "    <tr>\n",
              "      <th>2</th>\n",
              "      <td>SAREGAMA Carvaan Mobile M11(CM181) with 1500 p...</td>\n",
              "      <td>₹1,990</td>\n",
              "      <td>3.8</td>\n",
              "      <td>4 MB RAM | 2 GB ROM | Expandable Upto 8 GB4.57...</td>\n",
              "      <td>NaN</td>\n",
              "      <td>[1800 mAh]</td>\n",
              "      <td>[4.57 cm, 1.8 inch]</td>\n",
              "      <td>[]</td>\n",
              "      <td>[]</td>\n",
              "      <td>[]</td>\n",
              "      <td>[]</td>\n",
              "    </tr>\n",
              "    <tr>\n",
              "      <th>3</th>\n",
              "      <td>SAREGAMA Carvaan Keypad Mobile Tamil Don M12 w...</td>\n",
              "      <td>₹1,750</td>\n",
              "      <td>NaN</td>\n",
              "      <td>32 MB RAM | 1.3 GB ROM4.57 cm (1.8 inch) Displ...</td>\n",
              "      <td>NaN</td>\n",
              "      <td>[800 mAh]</td>\n",
              "      <td>[4.57 cm, 1.8 inch]</td>\n",
              "      <td>[]</td>\n",
              "      <td>[]</td>\n",
              "      <td>[]</td>\n",
              "      <td>[]</td>\n",
              "    </tr>\n",
              "    <tr>\n",
              "      <th>4</th>\n",
              "      <td>SAREGAMA Carvaan Mobile Hindi Don M12 with 100...</td>\n",
              "      <td>₹1,750</td>\n",
              "      <td>4.3</td>\n",
              "      <td>32 MB RAM | 1.3 GB ROM4.57 cm (1.8 inch) Displ...</td>\n",
              "      <td>NaN</td>\n",
              "      <td>[800 mAh]</td>\n",
              "      <td>[4.57 cm, 1.8 inch]</td>\n",
              "      <td>[]</td>\n",
              "      <td>[]</td>\n",
              "      <td>[]</td>\n",
              "      <td>[]</td>\n",
              "    </tr>\n",
              "  </tbody>\n",
              "</table>\n",
              "</div>"
            ],
            "text/plain": [
              "                                         ProductName   Price Rating  \\\n",
              "0  IAIR Basic Feature Dual Sim Mobile Phone with ...  ₹1,169      4   \n",
              "1                    I Kall K88 PRO 4G Keypad Mobile  ₹1,899    3.5   \n",
              "2  SAREGAMA Carvaan Mobile M11(CM181) with 1500 p...  ₹1,990    3.8   \n",
              "3  SAREGAMA Carvaan Keypad Mobile Tamil Don M12 w...  ₹1,750    NaN   \n",
              "4  SAREGAMA Carvaan Mobile Hindi Don M12 with 100...  ₹1,750    4.3   \n",
              "\n",
              "                                            Features MRP_PRICE     Battery  \\\n",
              "0  32 MB RAM | 32 MB ROM | Expandable Upto 32 GB4...    ₹1,499  [2800 mAh]   \n",
              "1  48 MB RAM | 128 MB ROM | Expandable Upto 128 G...    ₹2,599  [1800 mAh]   \n",
              "2  4 MB RAM | 2 GB ROM | Expandable Upto 8 GB4.57...       NaN  [1800 mAh]   \n",
              "3  32 MB RAM | 1.3 GB ROM4.57 cm (1.8 inch) Displ...       NaN   [800 mAh]   \n",
              "4  32 MB RAM | 1.3 GB ROM4.57 cm (1.8 inch) Displ...       NaN   [800 mAh]   \n",
              "\n",
              "               Display RAM(GB) R0M(GB) Processor Mobile Waranty  \n",
              "0  [4.5 cm, 1.77 inch]      []      []        []       [1 Year]  \n",
              "1   [6.1 cm, 2.4 inch]      []      []        []       [1 Year]  \n",
              "2  [4.57 cm, 1.8 inch]      []      []        []             []  \n",
              "3  [4.57 cm, 1.8 inch]      []      []        []             []  \n",
              "4  [4.57 cm, 1.8 inch]      []      []        []             []  "
            ]
          },
          "execution_count": 41,
          "metadata": {},
          "output_type": "execute_result"
        }
      ],
      "source": [
        "mobile.head()"
      ]
    },
    {
      "cell_type": "code",
      "execution_count": null,
      "id": "09417fb2",
      "metadata": {
        "id": "09417fb2"
      },
      "outputs": [],
      "source": [
        "# waranty for Accessories\n",
        "\n",
        "regex = '(\\d\\s(?:Months))'\n",
        "mobile['Accessories'] = mobile['Features'].apply(lambda x: re.compile(regex).findall(x))"
      ]
    },
    {
      "cell_type": "code",
      "execution_count": null,
      "id": "5db6dc46",
      "metadata": {
        "id": "5db6dc46",
        "outputId": "35ab9a79-6b15-4851-94b5-7c795c79c4d8"
      },
      "outputs": [
        {
          "data": {
            "text/plain": [
              "'32 MB RAM | 1.3 GB ROM4.57 cm (1.8 inch) Display800 mAh Battery1 year warranty against manufacturing defects'"
            ]
          },
          "execution_count": 43,
          "metadata": {},
          "output_type": "execute_result"
        }
      ],
      "source": [
        "mobile['Features'][3]"
      ]
    },
    {
      "cell_type": "code",
      "execution_count": null,
      "id": "20ed340f",
      "metadata": {
        "id": "20ed340f"
      },
      "outputs": [],
      "source": [
        "# Expandable\n",
        "\n",
        "regex = 'Upto\\s(\\d\\d\\d\\s)'\n",
        "mobile['Expandable'] = mobile['Features'].apply(lambda x: re.compile(regex).findall(x))"
      ]
    },
    {
      "cell_type": "code",
      "execution_count": null,
      "id": "7101967b",
      "metadata": {
        "id": "7101967b",
        "outputId": "9137acca-5a22-40ba-cba8-4e168c0884bd"
      },
      "outputs": [
        {
          "data": {
            "text/html": [
              "<div>\n",
              "<style scoped>\n",
              "    .dataframe tbody tr th:only-of-type {\n",
              "        vertical-align: middle;\n",
              "    }\n",
              "\n",
              "    .dataframe tbody tr th {\n",
              "        vertical-align: top;\n",
              "    }\n",
              "\n",
              "    .dataframe thead th {\n",
              "        text-align: right;\n",
              "    }\n",
              "</style>\n",
              "<table border=\"1\" class=\"dataframe\">\n",
              "  <thead>\n",
              "    <tr style=\"text-align: right;\">\n",
              "      <th></th>\n",
              "      <th>ProductName</th>\n",
              "      <th>Price</th>\n",
              "      <th>Rating</th>\n",
              "      <th>Features</th>\n",
              "      <th>MRP_PRICE</th>\n",
              "      <th>Battery</th>\n",
              "      <th>Display</th>\n",
              "      <th>RAM(GB)</th>\n",
              "      <th>R0M(GB)</th>\n",
              "      <th>Processor</th>\n",
              "      <th>Mobile Waranty</th>\n",
              "      <th>Accessories</th>\n",
              "      <th>Expandable</th>\n",
              "    </tr>\n",
              "  </thead>\n",
              "  <tbody>\n",
              "    <tr>\n",
              "      <th>0</th>\n",
              "      <td>IAIR Basic Feature Dual Sim Mobile Phone with ...</td>\n",
              "      <td>₹1,169</td>\n",
              "      <td>4</td>\n",
              "      <td>32 MB RAM | 32 MB ROM | Expandable Upto 32 GB4...</td>\n",
              "      <td>₹1,499</td>\n",
              "      <td>[2800 mAh]</td>\n",
              "      <td>[4.5 cm, 1.77 inch]</td>\n",
              "      <td>[]</td>\n",
              "      <td>[]</td>\n",
              "      <td>[]</td>\n",
              "      <td>[1 Year]</td>\n",
              "      <td>[]</td>\n",
              "      <td>[]</td>\n",
              "    </tr>\n",
              "    <tr>\n",
              "      <th>1</th>\n",
              "      <td>I Kall K88 PRO 4G Keypad Mobile</td>\n",
              "      <td>₹1,899</td>\n",
              "      <td>3.5</td>\n",
              "      <td>48 MB RAM | 128 MB ROM | Expandable Upto 128 G...</td>\n",
              "      <td>₹2,599</td>\n",
              "      <td>[1800 mAh]</td>\n",
              "      <td>[6.1 cm, 2.4 inch]</td>\n",
              "      <td>[]</td>\n",
              "      <td>[]</td>\n",
              "      <td>[]</td>\n",
              "      <td>[1 Year]</td>\n",
              "      <td>[6 Months]</td>\n",
              "      <td>[128 ]</td>\n",
              "    </tr>\n",
              "    <tr>\n",
              "      <th>2</th>\n",
              "      <td>SAREGAMA Carvaan Mobile M11(CM181) with 1500 p...</td>\n",
              "      <td>₹1,990</td>\n",
              "      <td>3.8</td>\n",
              "      <td>4 MB RAM | 2 GB ROM | Expandable Upto 8 GB4.57...</td>\n",
              "      <td>NaN</td>\n",
              "      <td>[1800 mAh]</td>\n",
              "      <td>[4.57 cm, 1.8 inch]</td>\n",
              "      <td>[]</td>\n",
              "      <td>[]</td>\n",
              "      <td>[]</td>\n",
              "      <td>[]</td>\n",
              "      <td>[]</td>\n",
              "      <td>[]</td>\n",
              "    </tr>\n",
              "    <tr>\n",
              "      <th>3</th>\n",
              "      <td>SAREGAMA Carvaan Keypad Mobile Tamil Don M12 w...</td>\n",
              "      <td>₹1,750</td>\n",
              "      <td>NaN</td>\n",
              "      <td>32 MB RAM | 1.3 GB ROM4.57 cm (1.8 inch) Displ...</td>\n",
              "      <td>NaN</td>\n",
              "      <td>[800 mAh]</td>\n",
              "      <td>[4.57 cm, 1.8 inch]</td>\n",
              "      <td>[]</td>\n",
              "      <td>[]</td>\n",
              "      <td>[]</td>\n",
              "      <td>[]</td>\n",
              "      <td>[]</td>\n",
              "      <td>[]</td>\n",
              "    </tr>\n",
              "    <tr>\n",
              "      <th>4</th>\n",
              "      <td>SAREGAMA Carvaan Mobile Hindi Don M12 with 100...</td>\n",
              "      <td>₹1,750</td>\n",
              "      <td>4.3</td>\n",
              "      <td>32 MB RAM | 1.3 GB ROM4.57 cm (1.8 inch) Displ...</td>\n",
              "      <td>NaN</td>\n",
              "      <td>[800 mAh]</td>\n",
              "      <td>[4.57 cm, 1.8 inch]</td>\n",
              "      <td>[]</td>\n",
              "      <td>[]</td>\n",
              "      <td>[]</td>\n",
              "      <td>[]</td>\n",
              "      <td>[]</td>\n",
              "      <td>[]</td>\n",
              "    </tr>\n",
              "  </tbody>\n",
              "</table>\n",
              "</div>"
            ],
            "text/plain": [
              "                                         ProductName   Price Rating  \\\n",
              "0  IAIR Basic Feature Dual Sim Mobile Phone with ...  ₹1,169      4   \n",
              "1                    I Kall K88 PRO 4G Keypad Mobile  ₹1,899    3.5   \n",
              "2  SAREGAMA Carvaan Mobile M11(CM181) with 1500 p...  ₹1,990    3.8   \n",
              "3  SAREGAMA Carvaan Keypad Mobile Tamil Don M12 w...  ₹1,750    NaN   \n",
              "4  SAREGAMA Carvaan Mobile Hindi Don M12 with 100...  ₹1,750    4.3   \n",
              "\n",
              "                                            Features MRP_PRICE     Battery  \\\n",
              "0  32 MB RAM | 32 MB ROM | Expandable Upto 32 GB4...    ₹1,499  [2800 mAh]   \n",
              "1  48 MB RAM | 128 MB ROM | Expandable Upto 128 G...    ₹2,599  [1800 mAh]   \n",
              "2  4 MB RAM | 2 GB ROM | Expandable Upto 8 GB4.57...       NaN  [1800 mAh]   \n",
              "3  32 MB RAM | 1.3 GB ROM4.57 cm (1.8 inch) Displ...       NaN   [800 mAh]   \n",
              "4  32 MB RAM | 1.3 GB ROM4.57 cm (1.8 inch) Displ...       NaN   [800 mAh]   \n",
              "\n",
              "               Display RAM(GB) R0M(GB) Processor Mobile Waranty Accessories  \\\n",
              "0  [4.5 cm, 1.77 inch]      []      []        []       [1 Year]          []   \n",
              "1   [6.1 cm, 2.4 inch]      []      []        []       [1 Year]  [6 Months]   \n",
              "2  [4.57 cm, 1.8 inch]      []      []        []             []          []   \n",
              "3  [4.57 cm, 1.8 inch]      []      []        []             []          []   \n",
              "4  [4.57 cm, 1.8 inch]      []      []        []             []          []   \n",
              "\n",
              "  Expandable  \n",
              "0         []  \n",
              "1     [128 ]  \n",
              "2         []  \n",
              "3         []  \n",
              "4         []  "
            ]
          },
          "execution_count": 45,
          "metadata": {},
          "output_type": "execute_result"
        }
      ],
      "source": [
        "mobile.head()"
      ]
    },
    {
      "cell_type": "code",
      "execution_count": null,
      "id": "1d6d6a24",
      "metadata": {
        "id": "1d6d6a24",
        "outputId": "8c7cd1de-38fc-439b-8e91-8672ef06a7a3"
      },
      "outputs": [
        {
          "data": {
            "text/plain": [
              "'I Kall K88 PRO 4G Keypad Mobile'"
            ]
          },
          "execution_count": 46,
          "metadata": {},
          "output_type": "execute_result"
        }
      ],
      "source": [
        "mobile['ProductName'][1]"
      ]
    },
    {
      "cell_type": "code",
      "execution_count": null,
      "id": "ff8a98d8",
      "metadata": {
        "id": "ff8a98d8"
      },
      "outputs": [],
      "source": [
        "#Name\n",
        "\n",
        "regex ='^\\w+'\n",
        "mobile['Name'] = mobile['ProductName'].apply(lambda x: re.compile(regex).findall(x))"
      ]
    },
    {
      "cell_type": "code",
      "execution_count": null,
      "id": "f0941906",
      "metadata": {
        "id": "f0941906",
        "outputId": "da1f34aa-4aff-4482-fa24-5cbd4a2e8b10"
      },
      "outputs": [
        {
          "data": {
            "text/html": [
              "<div>\n",
              "<style scoped>\n",
              "    .dataframe tbody tr th:only-of-type {\n",
              "        vertical-align: middle;\n",
              "    }\n",
              "\n",
              "    .dataframe tbody tr th {\n",
              "        vertical-align: top;\n",
              "    }\n",
              "\n",
              "    .dataframe thead th {\n",
              "        text-align: right;\n",
              "    }\n",
              "</style>\n",
              "<table border=\"1\" class=\"dataframe\">\n",
              "  <thead>\n",
              "    <tr style=\"text-align: right;\">\n",
              "      <th></th>\n",
              "      <th>ProductName</th>\n",
              "      <th>Price</th>\n",
              "      <th>Rating</th>\n",
              "      <th>Features</th>\n",
              "      <th>MRP_PRICE</th>\n",
              "      <th>Battery</th>\n",
              "      <th>Display</th>\n",
              "      <th>RAM(GB)</th>\n",
              "      <th>R0M(GB)</th>\n",
              "      <th>Processor</th>\n",
              "      <th>Mobile Waranty</th>\n",
              "      <th>Accessories</th>\n",
              "      <th>Expandable</th>\n",
              "      <th>Name</th>\n",
              "    </tr>\n",
              "  </thead>\n",
              "  <tbody>\n",
              "    <tr>\n",
              "      <th>0</th>\n",
              "      <td>IAIR Basic Feature Dual Sim Mobile Phone with ...</td>\n",
              "      <td>₹1,169</td>\n",
              "      <td>4</td>\n",
              "      <td>32 MB RAM | 32 MB ROM | Expandable Upto 32 GB4...</td>\n",
              "      <td>₹1,499</td>\n",
              "      <td>[2800 mAh]</td>\n",
              "      <td>[4.5 cm, 1.77 inch]</td>\n",
              "      <td>[]</td>\n",
              "      <td>[]</td>\n",
              "      <td>[]</td>\n",
              "      <td>[1 Year]</td>\n",
              "      <td>[]</td>\n",
              "      <td>[]</td>\n",
              "      <td>[IAIR]</td>\n",
              "    </tr>\n",
              "    <tr>\n",
              "      <th>1</th>\n",
              "      <td>I Kall K88 PRO 4G Keypad Mobile</td>\n",
              "      <td>₹1,899</td>\n",
              "      <td>3.5</td>\n",
              "      <td>48 MB RAM | 128 MB ROM | Expandable Upto 128 G...</td>\n",
              "      <td>₹2,599</td>\n",
              "      <td>[1800 mAh]</td>\n",
              "      <td>[6.1 cm, 2.4 inch]</td>\n",
              "      <td>[]</td>\n",
              "      <td>[]</td>\n",
              "      <td>[]</td>\n",
              "      <td>[1 Year]</td>\n",
              "      <td>[6 Months]</td>\n",
              "      <td>[128 ]</td>\n",
              "      <td>[I]</td>\n",
              "    </tr>\n",
              "    <tr>\n",
              "      <th>2</th>\n",
              "      <td>SAREGAMA Carvaan Mobile M11(CM181) with 1500 p...</td>\n",
              "      <td>₹1,990</td>\n",
              "      <td>3.8</td>\n",
              "      <td>4 MB RAM | 2 GB ROM | Expandable Upto 8 GB4.57...</td>\n",
              "      <td>NaN</td>\n",
              "      <td>[1800 mAh]</td>\n",
              "      <td>[4.57 cm, 1.8 inch]</td>\n",
              "      <td>[]</td>\n",
              "      <td>[]</td>\n",
              "      <td>[]</td>\n",
              "      <td>[]</td>\n",
              "      <td>[]</td>\n",
              "      <td>[]</td>\n",
              "      <td>[SAREGAMA]</td>\n",
              "    </tr>\n",
              "    <tr>\n",
              "      <th>3</th>\n",
              "      <td>SAREGAMA Carvaan Keypad Mobile Tamil Don M12 w...</td>\n",
              "      <td>₹1,750</td>\n",
              "      <td>NaN</td>\n",
              "      <td>32 MB RAM | 1.3 GB ROM4.57 cm (1.8 inch) Displ...</td>\n",
              "      <td>NaN</td>\n",
              "      <td>[800 mAh]</td>\n",
              "      <td>[4.57 cm, 1.8 inch]</td>\n",
              "      <td>[]</td>\n",
              "      <td>[]</td>\n",
              "      <td>[]</td>\n",
              "      <td>[]</td>\n",
              "      <td>[]</td>\n",
              "      <td>[]</td>\n",
              "      <td>[SAREGAMA]</td>\n",
              "    </tr>\n",
              "    <tr>\n",
              "      <th>4</th>\n",
              "      <td>SAREGAMA Carvaan Mobile Hindi Don M12 with 100...</td>\n",
              "      <td>₹1,750</td>\n",
              "      <td>4.3</td>\n",
              "      <td>32 MB RAM | 1.3 GB ROM4.57 cm (1.8 inch) Displ...</td>\n",
              "      <td>NaN</td>\n",
              "      <td>[800 mAh]</td>\n",
              "      <td>[4.57 cm, 1.8 inch]</td>\n",
              "      <td>[]</td>\n",
              "      <td>[]</td>\n",
              "      <td>[]</td>\n",
              "      <td>[]</td>\n",
              "      <td>[]</td>\n",
              "      <td>[]</td>\n",
              "      <td>[SAREGAMA]</td>\n",
              "    </tr>\n",
              "  </tbody>\n",
              "</table>\n",
              "</div>"
            ],
            "text/plain": [
              "                                         ProductName   Price Rating  \\\n",
              "0  IAIR Basic Feature Dual Sim Mobile Phone with ...  ₹1,169      4   \n",
              "1                    I Kall K88 PRO 4G Keypad Mobile  ₹1,899    3.5   \n",
              "2  SAREGAMA Carvaan Mobile M11(CM181) with 1500 p...  ₹1,990    3.8   \n",
              "3  SAREGAMA Carvaan Keypad Mobile Tamil Don M12 w...  ₹1,750    NaN   \n",
              "4  SAREGAMA Carvaan Mobile Hindi Don M12 with 100...  ₹1,750    4.3   \n",
              "\n",
              "                                            Features MRP_PRICE     Battery  \\\n",
              "0  32 MB RAM | 32 MB ROM | Expandable Upto 32 GB4...    ₹1,499  [2800 mAh]   \n",
              "1  48 MB RAM | 128 MB ROM | Expandable Upto 128 G...    ₹2,599  [1800 mAh]   \n",
              "2  4 MB RAM | 2 GB ROM | Expandable Upto 8 GB4.57...       NaN  [1800 mAh]   \n",
              "3  32 MB RAM | 1.3 GB ROM4.57 cm (1.8 inch) Displ...       NaN   [800 mAh]   \n",
              "4  32 MB RAM | 1.3 GB ROM4.57 cm (1.8 inch) Displ...       NaN   [800 mAh]   \n",
              "\n",
              "               Display RAM(GB) R0M(GB) Processor Mobile Waranty Accessories  \\\n",
              "0  [4.5 cm, 1.77 inch]      []      []        []       [1 Year]          []   \n",
              "1   [6.1 cm, 2.4 inch]      []      []        []       [1 Year]  [6 Months]   \n",
              "2  [4.57 cm, 1.8 inch]      []      []        []             []          []   \n",
              "3  [4.57 cm, 1.8 inch]      []      []        []             []          []   \n",
              "4  [4.57 cm, 1.8 inch]      []      []        []             []          []   \n",
              "\n",
              "  Expandable        Name  \n",
              "0         []      [IAIR]  \n",
              "1     [128 ]         [I]  \n",
              "2         []  [SAREGAMA]  \n",
              "3         []  [SAREGAMA]  \n",
              "4         []  [SAREGAMA]  "
            ]
          },
          "execution_count": 48,
          "metadata": {},
          "output_type": "execute_result"
        }
      ],
      "source": [
        "mobile.head()"
      ]
    },
    {
      "cell_type": "code",
      "execution_count": null,
      "id": "9f99ade6",
      "metadata": {
        "id": "9f99ade6",
        "outputId": "32296620-4146-4545-a11f-bc0d99e5ad50"
      },
      "outputs": [
        {
          "data": {
            "text/plain": [
              "'IAIR Basic Feature Dual Sim Mobile Phone with 2800mAh Big Battery, 1.77 inch Display Screen, 0.8 mp Sm...'"
            ]
          },
          "execution_count": 49,
          "metadata": {},
          "output_type": "execute_result"
        }
      ],
      "source": [
        "mobile['ProductName'][0]"
      ]
    },
    {
      "cell_type": "code",
      "execution_count": null,
      "id": "9c51f510",
      "metadata": {
        "id": "9c51f510",
        "outputId": "8195e095-637a-4459-864d-b4f8f8d4a5ed"
      },
      "outputs": [
        {
          "data": {
            "text/html": [
              "<div>\n",
              "<style scoped>\n",
              "    .dataframe tbody tr th:only-of-type {\n",
              "        vertical-align: middle;\n",
              "    }\n",
              "\n",
              "    .dataframe tbody tr th {\n",
              "        vertical-align: top;\n",
              "    }\n",
              "\n",
              "    .dataframe thead th {\n",
              "        text-align: right;\n",
              "    }\n",
              "</style>\n",
              "<table border=\"1\" class=\"dataframe\">\n",
              "  <thead>\n",
              "    <tr style=\"text-align: right;\">\n",
              "      <th></th>\n",
              "      <th>ProductName</th>\n",
              "      <th>Price</th>\n",
              "      <th>Rating</th>\n",
              "      <th>Features</th>\n",
              "      <th>MRP_PRICE</th>\n",
              "      <th>Battery</th>\n",
              "      <th>Display</th>\n",
              "      <th>RAM(GB)</th>\n",
              "      <th>R0M(GB)</th>\n",
              "      <th>Processor</th>\n",
              "      <th>Mobile Waranty</th>\n",
              "      <th>Accessories</th>\n",
              "      <th>Expandable</th>\n",
              "      <th>Name</th>\n",
              "    </tr>\n",
              "  </thead>\n",
              "  <tbody>\n",
              "    <tr>\n",
              "      <th>0</th>\n",
              "      <td>IAIR Basic Feature Dual Sim Mobile Phone with ...</td>\n",
              "      <td>₹1,169</td>\n",
              "      <td>4</td>\n",
              "      <td>32 MB RAM | 32 MB ROM | Expandable Upto 32 GB4...</td>\n",
              "      <td>₹1,499</td>\n",
              "      <td>[2800 mAh]</td>\n",
              "      <td>[4.5 cm, 1.77 inch]</td>\n",
              "      <td>[]</td>\n",
              "      <td>[]</td>\n",
              "      <td>[]</td>\n",
              "      <td>[1 Year]</td>\n",
              "      <td>[]</td>\n",
              "      <td>[]</td>\n",
              "      <td>[IAIR]</td>\n",
              "    </tr>\n",
              "    <tr>\n",
              "      <th>1</th>\n",
              "      <td>I Kall K88 PRO 4G Keypad Mobile</td>\n",
              "      <td>₹1,899</td>\n",
              "      <td>3.5</td>\n",
              "      <td>48 MB RAM | 128 MB ROM | Expandable Upto 128 G...</td>\n",
              "      <td>₹2,599</td>\n",
              "      <td>[1800 mAh]</td>\n",
              "      <td>[6.1 cm, 2.4 inch]</td>\n",
              "      <td>[]</td>\n",
              "      <td>[]</td>\n",
              "      <td>[]</td>\n",
              "      <td>[1 Year]</td>\n",
              "      <td>[6 Months]</td>\n",
              "      <td>[128 ]</td>\n",
              "      <td>[I]</td>\n",
              "    </tr>\n",
              "  </tbody>\n",
              "</table>\n",
              "</div>"
            ],
            "text/plain": [
              "                                         ProductName   Price Rating  \\\n",
              "0  IAIR Basic Feature Dual Sim Mobile Phone with ...  ₹1,169      4   \n",
              "1                    I Kall K88 PRO 4G Keypad Mobile  ₹1,899    3.5   \n",
              "\n",
              "                                            Features MRP_PRICE     Battery  \\\n",
              "0  32 MB RAM | 32 MB ROM | Expandable Upto 32 GB4...    ₹1,499  [2800 mAh]   \n",
              "1  48 MB RAM | 128 MB ROM | Expandable Upto 128 G...    ₹2,599  [1800 mAh]   \n",
              "\n",
              "               Display RAM(GB) R0M(GB) Processor Mobile Waranty Accessories  \\\n",
              "0  [4.5 cm, 1.77 inch]      []      []        []       [1 Year]          []   \n",
              "1   [6.1 cm, 2.4 inch]      []      []        []       [1 Year]  [6 Months]   \n",
              "\n",
              "  Expandable    Name  \n",
              "0         []  [IAIR]  \n",
              "1     [128 ]     [I]  "
            ]
          },
          "execution_count": 50,
          "metadata": {},
          "output_type": "execute_result"
        }
      ],
      "source": [
        "mobile.head(2)"
      ]
    },
    {
      "cell_type": "code",
      "execution_count": null,
      "id": "41ac51d4",
      "metadata": {
        "id": "41ac51d4",
        "outputId": "8c779df3-4eff-4f0b-beb5-120f3d87df5d"
      },
      "outputs": [
        {
          "data": {
            "text/html": [
              "<div>\n",
              "<style scoped>\n",
              "    .dataframe tbody tr th:only-of-type {\n",
              "        vertical-align: middle;\n",
              "    }\n",
              "\n",
              "    .dataframe tbody tr th {\n",
              "        vertical-align: top;\n",
              "    }\n",
              "\n",
              "    .dataframe thead th {\n",
              "        text-align: right;\n",
              "    }\n",
              "</style>\n",
              "<table border=\"1\" class=\"dataframe\">\n",
              "  <thead>\n",
              "    <tr style=\"text-align: right;\">\n",
              "      <th></th>\n",
              "      <th>ProductName</th>\n",
              "      <th>Price</th>\n",
              "      <th>Rating</th>\n",
              "      <th>Features</th>\n",
              "      <th>MRP_PRICE</th>\n",
              "      <th>Battery</th>\n",
              "      <th>Display</th>\n",
              "      <th>RAM(GB)</th>\n",
              "      <th>R0M(GB)</th>\n",
              "      <th>Processor</th>\n",
              "      <th>Mobile Waranty</th>\n",
              "      <th>Accessories</th>\n",
              "      <th>Expandable</th>\n",
              "      <th>Name</th>\n",
              "    </tr>\n",
              "  </thead>\n",
              "  <tbody>\n",
              "    <tr>\n",
              "      <th>0</th>\n",
              "      <td>IAIR Basic Feature Dual Sim Mobile Phone with ...</td>\n",
              "      <td>₹1,169</td>\n",
              "      <td>4</td>\n",
              "      <td>32 MB RAM | 32 MB ROM | Expandable Upto 32 GB4...</td>\n",
              "      <td>₹1,499</td>\n",
              "      <td>[2800 mAh]</td>\n",
              "      <td>[4.5 cm, 1.77 inch]</td>\n",
              "      <td>[]</td>\n",
              "      <td>[]</td>\n",
              "      <td>[]</td>\n",
              "      <td>[1 Year]</td>\n",
              "      <td>[]</td>\n",
              "      <td>[]</td>\n",
              "      <td>[IAIR]</td>\n",
              "    </tr>\n",
              "    <tr>\n",
              "      <th>1</th>\n",
              "      <td>I Kall K88 PRO 4G Keypad Mobile</td>\n",
              "      <td>₹1,899</td>\n",
              "      <td>3.5</td>\n",
              "      <td>48 MB RAM | 128 MB ROM | Expandable Upto 128 G...</td>\n",
              "      <td>₹2,599</td>\n",
              "      <td>[1800 mAh]</td>\n",
              "      <td>[6.1 cm, 2.4 inch]</td>\n",
              "      <td>[]</td>\n",
              "      <td>[]</td>\n",
              "      <td>[]</td>\n",
              "      <td>[1 Year]</td>\n",
              "      <td>[6 Months]</td>\n",
              "      <td>[128 ]</td>\n",
              "      <td>[I]</td>\n",
              "    </tr>\n",
              "    <tr>\n",
              "      <th>2</th>\n",
              "      <td>SAREGAMA Carvaan Mobile M11(CM181) with 1500 p...</td>\n",
              "      <td>₹1,990</td>\n",
              "      <td>3.8</td>\n",
              "      <td>4 MB RAM | 2 GB ROM | Expandable Upto 8 GB4.57...</td>\n",
              "      <td>NaN</td>\n",
              "      <td>[1800 mAh]</td>\n",
              "      <td>[4.57 cm, 1.8 inch]</td>\n",
              "      <td>[]</td>\n",
              "      <td>[]</td>\n",
              "      <td>[]</td>\n",
              "      <td>[]</td>\n",
              "      <td>[]</td>\n",
              "      <td>[]</td>\n",
              "      <td>[SAREGAMA]</td>\n",
              "    </tr>\n",
              "    <tr>\n",
              "      <th>3</th>\n",
              "      <td>SAREGAMA Carvaan Keypad Mobile Tamil Don M12 w...</td>\n",
              "      <td>₹1,750</td>\n",
              "      <td>NaN</td>\n",
              "      <td>32 MB RAM | 1.3 GB ROM4.57 cm (1.8 inch) Displ...</td>\n",
              "      <td>NaN</td>\n",
              "      <td>[800 mAh]</td>\n",
              "      <td>[4.57 cm, 1.8 inch]</td>\n",
              "      <td>[]</td>\n",
              "      <td>[]</td>\n",
              "      <td>[]</td>\n",
              "      <td>[]</td>\n",
              "      <td>[]</td>\n",
              "      <td>[]</td>\n",
              "      <td>[SAREGAMA]</td>\n",
              "    </tr>\n",
              "    <tr>\n",
              "      <th>4</th>\n",
              "      <td>SAREGAMA Carvaan Mobile Hindi Don M12 with 100...</td>\n",
              "      <td>₹1,750</td>\n",
              "      <td>4.3</td>\n",
              "      <td>32 MB RAM | 1.3 GB ROM4.57 cm (1.8 inch) Displ...</td>\n",
              "      <td>NaN</td>\n",
              "      <td>[800 mAh]</td>\n",
              "      <td>[4.57 cm, 1.8 inch]</td>\n",
              "      <td>[]</td>\n",
              "      <td>[]</td>\n",
              "      <td>[]</td>\n",
              "      <td>[]</td>\n",
              "      <td>[]</td>\n",
              "      <td>[]</td>\n",
              "      <td>[SAREGAMA]</td>\n",
              "    </tr>\n",
              "    <tr>\n",
              "      <th>...</th>\n",
              "      <td>...</td>\n",
              "      <td>...</td>\n",
              "      <td>...</td>\n",
              "      <td>...</td>\n",
              "      <td>...</td>\n",
              "      <td>...</td>\n",
              "      <td>...</td>\n",
              "      <td>...</td>\n",
              "      <td>...</td>\n",
              "      <td>...</td>\n",
              "      <td>...</td>\n",
              "      <td>...</td>\n",
              "      <td>...</td>\n",
              "      <td>...</td>\n",
              "    </tr>\n",
              "    <tr>\n",
              "      <th>307</th>\n",
              "      <td>realme X50 Pro (Moss Green, 256 GB)</td>\n",
              "      <td>₹47,999</td>\n",
              "      <td>4.4</td>\n",
              "      <td>12 GB RAM | 256 GB ROM16.36 cm (6.44 inch) Ful...</td>\n",
              "      <td>NaN</td>\n",
              "      <td>[4200 mAh]</td>\n",
              "      <td>[16.36 cm, 6.44 inch]</td>\n",
              "      <td>[]</td>\n",
              "      <td>[12 GB , 256 GB ]</td>\n",
              "      <td>[ 865 Processor]</td>\n",
              "      <td>[1 Year]</td>\n",
              "      <td>[6 Months]</td>\n",
              "      <td>[]</td>\n",
              "      <td>[realme]</td>\n",
              "    </tr>\n",
              "    <tr>\n",
              "      <th>308</th>\n",
              "      <td>APPLE iPhone 11 (Purple, 128 GB)</td>\n",
              "      <td>₹45,999</td>\n",
              "      <td>4.6</td>\n",
              "      <td>128 GB ROM15.49 cm (6.1 inch) Liquid Retina HD...</td>\n",
              "      <td>₹48,900</td>\n",
              "      <td>[]</td>\n",
              "      <td>[15.49 cm, 6.1 inch]</td>\n",
              "      <td>[]</td>\n",
              "      <td>[128 GB ]</td>\n",
              "      <td>[]</td>\n",
              "      <td>[1 Year]</td>\n",
              "      <td>[]</td>\n",
              "      <td>[]</td>\n",
              "      <td>[APPLE]</td>\n",
              "    </tr>\n",
              "    <tr>\n",
              "      <th>309</th>\n",
              "      <td>Xiaomi 12 Pro 5G (Noir Black, 256 GB)</td>\n",
              "      <td>₹49,999</td>\n",
              "      <td>4.2</td>\n",
              "      <td>8 GB RAM | 256 GB ROM17.09 cm (6.73 inch) Full...</td>\n",
              "      <td>₹79,999</td>\n",
              "      <td>[4600 mAh]</td>\n",
              "      <td>[17.09 cm, 6.73 inch]</td>\n",
              "      <td>[8 GB]</td>\n",
              "      <td>[256 GB ]</td>\n",
              "      <td>[]</td>\n",
              "      <td>[]</td>\n",
              "      <td>[2 Months]</td>\n",
              "      <td>[]</td>\n",
              "      <td>[Xiaomi]</td>\n",
              "    </tr>\n",
              "    <tr>\n",
              "      <th>310</th>\n",
              "      <td>IQOO 9T 5G (LEGEND, 128 GB)</td>\n",
              "      <td>₹49,499</td>\n",
              "      <td>4.1</td>\n",
              "      <td>8 GB RAM | 128 GB ROM17.22 cm (6.78 inch) Disp...</td>\n",
              "      <td>₹50,999</td>\n",
              "      <td>[4700 mAh]</td>\n",
              "      <td>[17.22 cm, 6.78 inch]</td>\n",
              "      <td>[8 GB]</td>\n",
              "      <td>[128 GB ]</td>\n",
              "      <td>[]</td>\n",
              "      <td>[1 Year]</td>\n",
              "      <td>[]</td>\n",
              "      <td>[]</td>\n",
              "      <td>[IQOO]</td>\n",
              "    </tr>\n",
              "    <tr>\n",
              "      <th>311</th>\n",
              "      <td>realme GT 2 Pro (Paper Green, 128 GB)</td>\n",
              "      <td>₹49,999</td>\n",
              "      <td>4.2</td>\n",
              "      <td>8 GB RAM | 128 GB ROM17.02 cm (6.7 inch) Quad ...</td>\n",
              "      <td>₹57,999</td>\n",
              "      <td>[5000 mAh]</td>\n",
              "      <td>[17.02 cm, 6.7 inch]</td>\n",
              "      <td>[8 GB]</td>\n",
              "      <td>[128 GB ]</td>\n",
              "      <td>[]</td>\n",
              "      <td>[1 Year]</td>\n",
              "      <td>[6 Months]</td>\n",
              "      <td>[]</td>\n",
              "      <td>[realme]</td>\n",
              "    </tr>\n",
              "  </tbody>\n",
              "</table>\n",
              "<p>312 rows × 14 columns</p>\n",
              "</div>"
            ],
            "text/plain": [
              "                                           ProductName    Price Rating  \\\n",
              "0    IAIR Basic Feature Dual Sim Mobile Phone with ...   ₹1,169      4   \n",
              "1                      I Kall K88 PRO 4G Keypad Mobile   ₹1,899    3.5   \n",
              "2    SAREGAMA Carvaan Mobile M11(CM181) with 1500 p...   ₹1,990    3.8   \n",
              "3    SAREGAMA Carvaan Keypad Mobile Tamil Don M12 w...   ₹1,750    NaN   \n",
              "4    SAREGAMA Carvaan Mobile Hindi Don M12 with 100...   ₹1,750    4.3   \n",
              "..                                                 ...      ...    ...   \n",
              "307                realme X50 Pro (Moss Green, 256 GB)  ₹47,999    4.4   \n",
              "308                   APPLE iPhone 11 (Purple, 128 GB)  ₹45,999    4.6   \n",
              "309              Xiaomi 12 Pro 5G (Noir Black, 256 GB)  ₹49,999    4.2   \n",
              "310                        IQOO 9T 5G (LEGEND, 128 GB)  ₹49,499    4.1   \n",
              "311              realme GT 2 Pro (Paper Green, 128 GB)  ₹49,999    4.2   \n",
              "\n",
              "                                              Features MRP_PRICE     Battery  \\\n",
              "0    32 MB RAM | 32 MB ROM | Expandable Upto 32 GB4...    ₹1,499  [2800 mAh]   \n",
              "1    48 MB RAM | 128 MB ROM | Expandable Upto 128 G...    ₹2,599  [1800 mAh]   \n",
              "2    4 MB RAM | 2 GB ROM | Expandable Upto 8 GB4.57...       NaN  [1800 mAh]   \n",
              "3    32 MB RAM | 1.3 GB ROM4.57 cm (1.8 inch) Displ...       NaN   [800 mAh]   \n",
              "4    32 MB RAM | 1.3 GB ROM4.57 cm (1.8 inch) Displ...       NaN   [800 mAh]   \n",
              "..                                                 ...       ...         ...   \n",
              "307  12 GB RAM | 256 GB ROM16.36 cm (6.44 inch) Ful...       NaN  [4200 mAh]   \n",
              "308  128 GB ROM15.49 cm (6.1 inch) Liquid Retina HD...   ₹48,900          []   \n",
              "309  8 GB RAM | 256 GB ROM17.09 cm (6.73 inch) Full...   ₹79,999  [4600 mAh]   \n",
              "310  8 GB RAM | 128 GB ROM17.22 cm (6.78 inch) Disp...   ₹50,999  [4700 mAh]   \n",
              "311  8 GB RAM | 128 GB ROM17.02 cm (6.7 inch) Quad ...   ₹57,999  [5000 mAh]   \n",
              "\n",
              "                   Display RAM(GB)            R0M(GB)         Processor  \\\n",
              "0      [4.5 cm, 1.77 inch]      []                 []                []   \n",
              "1       [6.1 cm, 2.4 inch]      []                 []                []   \n",
              "2      [4.57 cm, 1.8 inch]      []                 []                []   \n",
              "3      [4.57 cm, 1.8 inch]      []                 []                []   \n",
              "4      [4.57 cm, 1.8 inch]      []                 []                []   \n",
              "..                     ...     ...                ...               ...   \n",
              "307  [16.36 cm, 6.44 inch]      []  [12 GB , 256 GB ]  [ 865 Processor]   \n",
              "308   [15.49 cm, 6.1 inch]      []          [128 GB ]                []   \n",
              "309  [17.09 cm, 6.73 inch]  [8 GB]          [256 GB ]                []   \n",
              "310  [17.22 cm, 6.78 inch]  [8 GB]          [128 GB ]                []   \n",
              "311   [17.02 cm, 6.7 inch]  [8 GB]          [128 GB ]                []   \n",
              "\n",
              "    Mobile Waranty Accessories Expandable        Name  \n",
              "0         [1 Year]          []         []      [IAIR]  \n",
              "1         [1 Year]  [6 Months]     [128 ]         [I]  \n",
              "2               []          []         []  [SAREGAMA]  \n",
              "3               []          []         []  [SAREGAMA]  \n",
              "4               []          []         []  [SAREGAMA]  \n",
              "..             ...         ...        ...         ...  \n",
              "307       [1 Year]  [6 Months]         []    [realme]  \n",
              "308       [1 Year]          []         []     [APPLE]  \n",
              "309             []  [2 Months]         []    [Xiaomi]  \n",
              "310       [1 Year]          []         []      [IQOO]  \n",
              "311       [1 Year]  [6 Months]         []    [realme]  \n",
              "\n",
              "[312 rows x 14 columns]"
            ]
          },
          "execution_count": 51,
          "metadata": {},
          "output_type": "execute_result"
        }
      ],
      "source": [
        "df=mobile.head(312)\n",
        "df"
      ]
    },
    {
      "cell_type": "code",
      "execution_count": null,
      "id": "014e1408",
      "metadata": {
        "id": "014e1408",
        "outputId": "7ab04d1d-0333-4dad-d33b-6787e1b98811"
      },
      "outputs": [
        {
          "data": {
            "text/html": [
              "<div>\n",
              "<style scoped>\n",
              "    .dataframe tbody tr th:only-of-type {\n",
              "        vertical-align: middle;\n",
              "    }\n",
              "\n",
              "    .dataframe tbody tr th {\n",
              "        vertical-align: top;\n",
              "    }\n",
              "\n",
              "    .dataframe thead th {\n",
              "        text-align: right;\n",
              "    }\n",
              "</style>\n",
              "<table border=\"1\" class=\"dataframe\">\n",
              "  <thead>\n",
              "    <tr style=\"text-align: right;\">\n",
              "      <th></th>\n",
              "      <th>ProductName</th>\n",
              "      <th>Price</th>\n",
              "      <th>Rating</th>\n",
              "      <th>Features</th>\n",
              "      <th>MRP_PRICE</th>\n",
              "      <th>Battery</th>\n",
              "      <th>Display</th>\n",
              "      <th>RAM(GB)</th>\n",
              "      <th>R0M(GB)</th>\n",
              "      <th>Processor</th>\n",
              "      <th>Mobile Waranty</th>\n",
              "      <th>Accessories</th>\n",
              "      <th>Expandable</th>\n",
              "      <th>Name</th>\n",
              "    </tr>\n",
              "  </thead>\n",
              "  <tbody>\n",
              "    <tr>\n",
              "      <th>0</th>\n",
              "      <td>IAIR Basic Feature Dual Sim Mobile Phone with ...</td>\n",
              "      <td>1169</td>\n",
              "      <td>4</td>\n",
              "      <td>32 MB RAM | 32 MB ROM | Expandable Upto 32 GB4...</td>\n",
              "      <td>1499</td>\n",
              "      <td>[2800 mAh]</td>\n",
              "      <td>[4.5 cm, 1.77 inch]</td>\n",
              "      <td>[]</td>\n",
              "      <td>[]</td>\n",
              "      <td>[]</td>\n",
              "      <td>[1 Year]</td>\n",
              "      <td>[]</td>\n",
              "      <td>[]</td>\n",
              "      <td>[IAIR]</td>\n",
              "    </tr>\n",
              "    <tr>\n",
              "      <th>1</th>\n",
              "      <td>I Kall K88 PRO 4G Keypad Mobile</td>\n",
              "      <td>1899</td>\n",
              "      <td>3.5</td>\n",
              "      <td>48 MB RAM | 128 MB ROM | Expandable Upto 128 G...</td>\n",
              "      <td>2599</td>\n",
              "      <td>[1800 mAh]</td>\n",
              "      <td>[6.1 cm, 2.4 inch]</td>\n",
              "      <td>[]</td>\n",
              "      <td>[]</td>\n",
              "      <td>[]</td>\n",
              "      <td>[1 Year]</td>\n",
              "      <td>[6 Months]</td>\n",
              "      <td>[128 ]</td>\n",
              "      <td>[I]</td>\n",
              "    </tr>\n",
              "    <tr>\n",
              "      <th>2</th>\n",
              "      <td>SAREGAMA Carvaan Mobile M11(CM181) with 1500 p...</td>\n",
              "      <td>1990</td>\n",
              "      <td>3.8</td>\n",
              "      <td>4 MB RAM | 2 GB ROM | Expandable Upto 8 GB4.57...</td>\n",
              "      <td>NaN</td>\n",
              "      <td>[1800 mAh]</td>\n",
              "      <td>[4.57 cm, 1.8 inch]</td>\n",
              "      <td>[]</td>\n",
              "      <td>[]</td>\n",
              "      <td>[]</td>\n",
              "      <td>[]</td>\n",
              "      <td>[]</td>\n",
              "      <td>[]</td>\n",
              "      <td>[SAREGAMA]</td>\n",
              "    </tr>\n",
              "    <tr>\n",
              "      <th>3</th>\n",
              "      <td>SAREGAMA Carvaan Keypad Mobile Tamil Don M12 w...</td>\n",
              "      <td>1750</td>\n",
              "      <td>NaN</td>\n",
              "      <td>32 MB RAM | 1.3 GB ROM4.57 cm (1.8 inch) Displ...</td>\n",
              "      <td>NaN</td>\n",
              "      <td>[800 mAh]</td>\n",
              "      <td>[4.57 cm, 1.8 inch]</td>\n",
              "      <td>[]</td>\n",
              "      <td>[]</td>\n",
              "      <td>[]</td>\n",
              "      <td>[]</td>\n",
              "      <td>[]</td>\n",
              "      <td>[]</td>\n",
              "      <td>[SAREGAMA]</td>\n",
              "    </tr>\n",
              "    <tr>\n",
              "      <th>4</th>\n",
              "      <td>SAREGAMA Carvaan Mobile Hindi Don M12 with 100...</td>\n",
              "      <td>1750</td>\n",
              "      <td>4.3</td>\n",
              "      <td>32 MB RAM | 1.3 GB ROM4.57 cm (1.8 inch) Displ...</td>\n",
              "      <td>NaN</td>\n",
              "      <td>[800 mAh]</td>\n",
              "      <td>[4.57 cm, 1.8 inch]</td>\n",
              "      <td>[]</td>\n",
              "      <td>[]</td>\n",
              "      <td>[]</td>\n",
              "      <td>[]</td>\n",
              "      <td>[]</td>\n",
              "      <td>[]</td>\n",
              "      <td>[SAREGAMA]</td>\n",
              "    </tr>\n",
              "  </tbody>\n",
              "</table>\n",
              "</div>"
            ],
            "text/plain": [
              "                                         ProductName Price Rating  \\\n",
              "0  IAIR Basic Feature Dual Sim Mobile Phone with ...  1169      4   \n",
              "1                    I Kall K88 PRO 4G Keypad Mobile  1899    3.5   \n",
              "2  SAREGAMA Carvaan Mobile M11(CM181) with 1500 p...  1990    3.8   \n",
              "3  SAREGAMA Carvaan Keypad Mobile Tamil Don M12 w...  1750    NaN   \n",
              "4  SAREGAMA Carvaan Mobile Hindi Don M12 with 100...  1750    4.3   \n",
              "\n",
              "                                            Features MRP_PRICE     Battery  \\\n",
              "0  32 MB RAM | 32 MB ROM | Expandable Upto 32 GB4...      1499  [2800 mAh]   \n",
              "1  48 MB RAM | 128 MB ROM | Expandable Upto 128 G...      2599  [1800 mAh]   \n",
              "2  4 MB RAM | 2 GB ROM | Expandable Upto 8 GB4.57...       NaN  [1800 mAh]   \n",
              "3  32 MB RAM | 1.3 GB ROM4.57 cm (1.8 inch) Displ...       NaN   [800 mAh]   \n",
              "4  32 MB RAM | 1.3 GB ROM4.57 cm (1.8 inch) Displ...       NaN   [800 mAh]   \n",
              "\n",
              "               Display RAM(GB) R0M(GB) Processor Mobile Waranty Accessories  \\\n",
              "0  [4.5 cm, 1.77 inch]      []      []        []       [1 Year]          []   \n",
              "1   [6.1 cm, 2.4 inch]      []      []        []       [1 Year]  [6 Months]   \n",
              "2  [4.57 cm, 1.8 inch]      []      []        []             []          []   \n",
              "3  [4.57 cm, 1.8 inch]      []      []        []             []          []   \n",
              "4  [4.57 cm, 1.8 inch]      []      []        []             []          []   \n",
              "\n",
              "  Expandable        Name  \n",
              "0         []      [IAIR]  \n",
              "1     [128 ]         [I]  \n",
              "2         []  [SAREGAMA]  \n",
              "3         []  [SAREGAMA]  \n",
              "4         []  [SAREGAMA]  "
            ]
          },
          "execution_count": 52,
          "metadata": {},
          "output_type": "execute_result"
        }
      ],
      "source": [
        "df['Price'] = df['Price'].str.lstrip('₹')\n",
        "df['Price']=df['Price'].replace({',':''},regex=True)\n",
        "df['MRP_PRICE'] = df['MRP_PRICE'].str.lstrip('₹')\n",
        "df['MRP_PRICE']=df['MRP_PRICE'].replace({',':''},regex=True)\n",
        "df.head()\n"
      ]
    },
    {
      "cell_type": "code",
      "execution_count": null,
      "id": "2d9185fe",
      "metadata": {
        "id": "2d9185fe",
        "outputId": "f72e2301-0c19-4927-d9b8-6f3a3a1bbec9"
      },
      "outputs": [
        {
          "data": {
            "text/plain": [
              "Index(['ProductName', 'Price', 'Rating', 'Features', 'MRP_PRICE', 'Battery',\n",
              "       'Display', 'RAM(GB)', 'R0M(GB)', 'Processor', 'Mobile Waranty',\n",
              "       'Accessories', 'Expandable', 'Name'],\n",
              "      dtype='object')"
            ]
          },
          "execution_count": 53,
          "metadata": {},
          "output_type": "execute_result"
        }
      ],
      "source": [
        "df.columns"
      ]
    },
    {
      "cell_type": "code",
      "execution_count": null,
      "id": "a93c5971",
      "metadata": {
        "id": "a93c5971",
        "outputId": "ec6f05c2-8b9e-4204-f5bb-4d15d85cf621"
      },
      "outputs": [
        {
          "data": {
            "text/plain": [
              "[]"
            ]
          },
          "execution_count": 54,
          "metadata": {},
          "output_type": "execute_result"
        }
      ],
      "source": [
        "#RAM\n",
        "r=re.compile(r\"(\\d+)\\sGB\\sRAM\")\n",
        "r.findall(df['Features'][0])"
      ]
    },
    {
      "cell_type": "code",
      "execution_count": null,
      "id": "c055bfe9",
      "metadata": {
        "id": "c055bfe9"
      },
      "outputs": [],
      "source": [
        "df['RAM(GB)']=df['Features'].apply(lambda x:r.findall(x))"
      ]
    },
    {
      "cell_type": "code",
      "execution_count": null,
      "id": "9a2691ad",
      "metadata": {
        "id": "9a2691ad",
        "outputId": "91f8604e-b0e0-4dc6-ae6d-ff4e885abb6d"
      },
      "outputs": [
        {
          "data": {
            "text/plain": [
              "[]"
            ]
          },
          "execution_count": 56,
          "metadata": {},
          "output_type": "execute_result"
        }
      ],
      "source": [
        "#ROM\n",
        "r=re.compile(r\"(\\d+)\\sGB\\sROM\")\n",
        "r.findall(df['Features'][1])"
      ]
    },
    {
      "cell_type": "code",
      "execution_count": null,
      "id": "8f81b6fd",
      "metadata": {
        "id": "8f81b6fd"
      },
      "outputs": [],
      "source": [
        "df['R0M(GB)']=df['Features'].apply(lambda x:r.findall(x))"
      ]
    },
    {
      "cell_type": "code",
      "execution_count": null,
      "id": "74375e0a",
      "metadata": {
        "id": "74375e0a",
        "outputId": "d0b49305-8ccc-4325-cea8-98e03ed1e85c"
      },
      "outputs": [
        {
          "data": {
            "text/plain": [
              "['32']"
            ]
          },
          "execution_count": 58,
          "metadata": {},
          "output_type": "execute_result"
        }
      ],
      "source": [
        "#Expandable\n",
        "r=re.compile(r\" Upto (\\d+)\\sGB\")\n",
        "r.findall(df['Features'][0])"
      ]
    },
    {
      "cell_type": "code",
      "execution_count": null,
      "id": "f02861f3",
      "metadata": {
        "id": "f02861f3"
      },
      "outputs": [],
      "source": [
        "df['Expandable']=df['Features'].apply(lambda x:r.findall(x))"
      ]
    },
    {
      "cell_type": "code",
      "execution_count": null,
      "id": "a4a3d57c",
      "metadata": {
        "id": "a4a3d57c",
        "outputId": "0b21d2e9-a4fa-4850-f3cb-b46a0baa05ac"
      },
      "outputs": [
        {
          "data": {
            "text/plain": [
              "['4.5']"
            ]
          },
          "execution_count": 60,
          "metadata": {},
          "output_type": "execute_result"
        }
      ],
      "source": [
        "#display\n",
        "r=re.compile(r\"(\\d+\\.\\d+)\\scm\")\n",
        "r.findall(df['Features'][0])"
      ]
    },
    {
      "cell_type": "code",
      "execution_count": null,
      "id": "f51f0761",
      "metadata": {
        "id": "f51f0761"
      },
      "outputs": [],
      "source": [
        "df['Display']=df['Features'].apply(lambda x:r.findall(x))"
      ]
    },
    {
      "cell_type": "code",
      "execution_count": null,
      "id": "89f82aa8",
      "metadata": {
        "id": "89f82aa8",
        "outputId": "c87b300d-d649-4991-ff3b-076edacfe30c"
      },
      "outputs": [
        {
          "data": {
            "text/plain": [
              "['2800']"
            ]
          },
          "execution_count": 62,
          "metadata": {},
          "output_type": "execute_result"
        }
      ],
      "source": [
        "#Battery\n",
        "r=re.compile(r\"(\\d+)\\smAh\")\n",
        "r.findall(df['Features'][0])"
      ]
    },
    {
      "cell_type": "code",
      "execution_count": null,
      "id": "4c1355f4",
      "metadata": {
        "id": "4c1355f4"
      },
      "outputs": [],
      "source": [
        "df['Battery']=df['Features'].apply(lambda x:r.findall(x))"
      ]
    },
    {
      "cell_type": "code",
      "execution_count": null,
      "id": "5e3a686d",
      "metadata": {
        "id": "5e3a686d",
        "outputId": "c2a7574e-1c86-45f0-cda0-c122fe29240b"
      },
      "outputs": [
        {
          "data": {
            "text/plain": [
              "[]"
            ]
          },
          "execution_count": 64,
          "metadata": {},
          "output_type": "execute_result"
        }
      ],
      "source": [
        "#Accessories\n",
        "r=re.compile(r\"(\\d+) Months\")\n",
        "r.findall(df['Features'][0])"
      ]
    },
    {
      "cell_type": "code",
      "execution_count": null,
      "id": "b6e4f794",
      "metadata": {
        "id": "b6e4f794"
      },
      "outputs": [],
      "source": [
        "df['Accessories']=df['Features'].apply(lambda x:r.findall(x))"
      ]
    },
    {
      "cell_type": "code",
      "execution_count": null,
      "id": "a1b32c7f",
      "metadata": {
        "id": "a1b32c7f",
        "outputId": "f2411200-b6d8-4ab9-e4f6-151170443a21"
      },
      "outputs": [
        {
          "data": {
            "text/plain": [
              "'32 MB RAM | 32 MB ROM | Expandable Upto 32 GB4.5 cm (1.77 inch) Display0.8MP + 0.8MP2800 mAh Battery1 Year manufacturer warranty for device and 6 months manufacturer warranty for in-box accessories including batteries from the date of purchase'"
            ]
          },
          "execution_count": 66,
          "metadata": {},
          "output_type": "execute_result"
        }
      ],
      "source": [
        "df['Features'][0]"
      ]
    },
    {
      "cell_type": "code",
      "execution_count": null,
      "id": "9372e09f",
      "metadata": {
        "id": "9372e09f",
        "outputId": "e3e2e611-894d-430e-8aae-da3e8984a1a6"
      },
      "outputs": [
        {
          "data": {
            "text/plain": [
              "[]"
            ]
          },
          "execution_count": 67,
          "metadata": {},
          "output_type": "execute_result"
        }
      ],
      "source": [
        "#Mobile Waranty\n",
        "r=re.compile(r\"Processor(\\D+|\\d+) Year\")\n",
        "r.findall(df['Features'][1])"
      ]
    },
    {
      "cell_type": "code",
      "execution_count": null,
      "id": "86be41ae",
      "metadata": {
        "id": "86be41ae"
      },
      "outputs": [],
      "source": [
        "df['Mobile Waranty']=df['Features'].apply(lambda x:r.findall(x))"
      ]
    },
    {
      "cell_type": "code",
      "execution_count": null,
      "id": "15fe849c",
      "metadata": {
        "id": "15fe849c"
      },
      "outputs": [],
      "source": [
        "df['ProductName'] = df['ProductName'].apply(lambda x : ''.join(x))\n",
        "#df['Rating'] = df['Rating'].apply(lambda x : ''.join(x))\n",
        "df['Features'] = df['Features'].apply(lambda x : ''.join(x))\n",
        "df['Name'] = df['Name'].apply(lambda x : ''.join(x))\n",
        "df['Battery'] = df['Battery'].apply(lambda x : ''.join(x))\n",
        "df['Display'] = df['Display'].apply(lambda x : ''.join(x))\n",
        "df['RAM(GB)'] = df['RAM(GB)'].apply(lambda x : ''.join(x))\n",
        "df['R0M(GB)']=df['R0M(GB)'].apply(lambda x:''.join(x))\n",
        "df['Processor'] = df['Processor'].apply(lambda x : ''.join(x))\n",
        "df['Mobile Waranty'] = df['Mobile Waranty'].apply(lambda x : ''.join(x))\n",
        "df['Accessories'] = df['Accessories'].apply(lambda x : ''.join(x))\n",
        "df['Expandable'] = df['Expandable'].apply(lambda x : ''.join(x))\n"
      ]
    },
    {
      "cell_type": "code",
      "execution_count": null,
      "id": "cceeecff",
      "metadata": {
        "id": "cceeecff"
      },
      "outputs": [],
      "source": [
        "df.to_csv(\"/Users/vignesh/Documents/vignesh.csv\")"
      ]
    },
    {
      "cell_type": "code",
      "execution_count": null,
      "id": "d946ad45",
      "metadata": {
        "id": "d946ad45"
      },
      "outputs": [],
      "source": []
    }
  ],
  "metadata": {
    "kernelspec": {
      "display_name": "Python 3 (ipykernel)",
      "language": "python",
      "name": "python3"
    },
    "language_info": {
      "codemirror_mode": {
        "name": "ipython",
        "version": 3
      },
      "file_extension": ".py",
      "mimetype": "text/x-python",
      "name": "python",
      "nbconvert_exporter": "python",
      "pygments_lexer": "ipython3",
      "version": "3.10.9"
    },
    "colab": {
      "provenance": []
    }
  },
  "nbformat": 4,
  "nbformat_minor": 5
}